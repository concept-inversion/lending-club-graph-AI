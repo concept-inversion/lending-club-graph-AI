{
 "cells": [
  {
   "cell_type": "code",
   "execution_count": 18,
   "metadata": {},
   "outputs": [],
   "source": [
    "import pandas as pd\n",
    "from sklearn import preprocessing"
   ]
  },
  {
   "cell_type": "code",
   "execution_count": 66,
   "metadata": {},
   "outputs": [
    {
     "name": "stderr",
     "output_type": "stream",
     "text": [
      "C:\\ProgramData\\Anaconda3\\lib\\site-packages\\IPython\\core\\interactiveshell.py:2785: DtypeWarning: Columns (24) have mixed types. Specify dtype option on import or set low_memory=False.\n",
      "  interactivity=interactivity, compiler=compiler, result=result)\n",
      "C:\\ProgramData\\Anaconda3\\lib\\site-packages\\numpy\\lib\\arraysetops.py:472: FutureWarning: elementwise comparison failed; returning scalar instead, but in the future will perform elementwise comparison\n",
      "  mask |= (ar1 == a)\n"
     ]
    }
   ],
   "source": [
    "df = pd.read_csv(\"data/columns-removed-loan-data.csv\",index_col=0)"
   ]
  },
  {
   "cell_type": "code",
   "execution_count": 67,
   "metadata": {},
   "outputs": [
    {
     "data": {
      "text/html": [
       "<div>\n",
       "<style scoped>\n",
       "    .dataframe tbody tr th:only-of-type {\n",
       "        vertical-align: middle;\n",
       "    }\n",
       "\n",
       "    .dataframe tbody tr th {\n",
       "        vertical-align: top;\n",
       "    }\n",
       "\n",
       "    .dataframe thead th {\n",
       "        text-align: right;\n",
       "    }\n",
       "</style>\n",
       "<table border=\"1\" class=\"dataframe\">\n",
       "  <thead>\n",
       "    <tr style=\"text-align: right;\">\n",
       "      <th></th>\n",
       "      <th>loan_amnt</th>\n",
       "      <th>funded_amnt</th>\n",
       "      <th>funded_amnt_inv</th>\n",
       "      <th>term</th>\n",
       "      <th>emp_length</th>\n",
       "      <th>home_ownership</th>\n",
       "      <th>annual_inc</th>\n",
       "      <th>verification_status</th>\n",
       "      <th>loan_status</th>\n",
       "      <th>purpose</th>\n",
       "      <th>...</th>\n",
       "      <th>tot_coll_amt</th>\n",
       "      <th>tot_cur_bal</th>\n",
       "      <th>open_act_il</th>\n",
       "      <th>open_il_24m</th>\n",
       "      <th>total_bal_il</th>\n",
       "      <th>il_util</th>\n",
       "      <th>open_rv_24m</th>\n",
       "      <th>max_bal_bc</th>\n",
       "      <th>all_util</th>\n",
       "      <th>acc_open_past_24mths</th>\n",
       "    </tr>\n",
       "  </thead>\n",
       "  <tbody>\n",
       "    <tr>\n",
       "      <th>0</th>\n",
       "      <td>15000.0</td>\n",
       "      <td>15000.0</td>\n",
       "      <td>15000.0</td>\n",
       "      <td>60 months</td>\n",
       "      <td>10+ years</td>\n",
       "      <td>RENT</td>\n",
       "      <td>78000.0</td>\n",
       "      <td>Source Verified</td>\n",
       "      <td>Fully Paid</td>\n",
       "      <td>debt_consolidation</td>\n",
       "      <td>...</td>\n",
       "      <td>0.0</td>\n",
       "      <td>149140.0</td>\n",
       "      <td>NaN</td>\n",
       "      <td>NaN</td>\n",
       "      <td>NaN</td>\n",
       "      <td>NaN</td>\n",
       "      <td>NaN</td>\n",
       "      <td>NaN</td>\n",
       "      <td>NaN</td>\n",
       "      <td>5.0</td>\n",
       "    </tr>\n",
       "    <tr>\n",
       "      <th>1</th>\n",
       "      <td>10400.0</td>\n",
       "      <td>10400.0</td>\n",
       "      <td>10400.0</td>\n",
       "      <td>36 months</td>\n",
       "      <td>8 years</td>\n",
       "      <td>MORTGAGE</td>\n",
       "      <td>58000.0</td>\n",
       "      <td>Not Verified</td>\n",
       "      <td>Charged Off</td>\n",
       "      <td>credit_card</td>\n",
       "      <td>...</td>\n",
       "      <td>0.0</td>\n",
       "      <td>162110.0</td>\n",
       "      <td>NaN</td>\n",
       "      <td>NaN</td>\n",
       "      <td>NaN</td>\n",
       "      <td>NaN</td>\n",
       "      <td>NaN</td>\n",
       "      <td>NaN</td>\n",
       "      <td>NaN</td>\n",
       "      <td>7.0</td>\n",
       "    </tr>\n",
       "    <tr>\n",
       "      <th>2</th>\n",
       "      <td>21425.0</td>\n",
       "      <td>21425.0</td>\n",
       "      <td>21425.0</td>\n",
       "      <td>60 months</td>\n",
       "      <td>6 years</td>\n",
       "      <td>RENT</td>\n",
       "      <td>63800.0</td>\n",
       "      <td>Source Verified</td>\n",
       "      <td>Fully Paid</td>\n",
       "      <td>credit_card</td>\n",
       "      <td>...</td>\n",
       "      <td>0.0</td>\n",
       "      <td>42315.0</td>\n",
       "      <td>NaN</td>\n",
       "      <td>NaN</td>\n",
       "      <td>NaN</td>\n",
       "      <td>NaN</td>\n",
       "      <td>NaN</td>\n",
       "      <td>NaN</td>\n",
       "      <td>NaN</td>\n",
       "      <td>4.0</td>\n",
       "    </tr>\n",
       "    <tr>\n",
       "      <th>3</th>\n",
       "      <td>12800.0</td>\n",
       "      <td>12800.0</td>\n",
       "      <td>12800.0</td>\n",
       "      <td>60 months</td>\n",
       "      <td>10+ years</td>\n",
       "      <td>MORTGAGE</td>\n",
       "      <td>125000.0</td>\n",
       "      <td>Verified</td>\n",
       "      <td>Current</td>\n",
       "      <td>car</td>\n",
       "      <td>...</td>\n",
       "      <td>0.0</td>\n",
       "      <td>261815.0</td>\n",
       "      <td>NaN</td>\n",
       "      <td>NaN</td>\n",
       "      <td>NaN</td>\n",
       "      <td>NaN</td>\n",
       "      <td>NaN</td>\n",
       "      <td>NaN</td>\n",
       "      <td>NaN</td>\n",
       "      <td>2.0</td>\n",
       "    </tr>\n",
       "    <tr>\n",
       "      <th>4</th>\n",
       "      <td>7650.0</td>\n",
       "      <td>7650.0</td>\n",
       "      <td>7650.0</td>\n",
       "      <td>36 months</td>\n",
       "      <td>&lt; 1 year</td>\n",
       "      <td>RENT</td>\n",
       "      <td>50000.0</td>\n",
       "      <td>Source Verified</td>\n",
       "      <td>Charged Off</td>\n",
       "      <td>debt_consolidation</td>\n",
       "      <td>...</td>\n",
       "      <td>0.0</td>\n",
       "      <td>64426.0</td>\n",
       "      <td>NaN</td>\n",
       "      <td>NaN</td>\n",
       "      <td>NaN</td>\n",
       "      <td>NaN</td>\n",
       "      <td>NaN</td>\n",
       "      <td>NaN</td>\n",
       "      <td>NaN</td>\n",
       "      <td>6.0</td>\n",
       "    </tr>\n",
       "  </tbody>\n",
       "</table>\n",
       "<p>5 rows × 34 columns</p>\n",
       "</div>"
      ],
      "text/plain": [
       "   loan_amnt  funded_amnt  funded_amnt_inv        term emp_length  \\\n",
       "0    15000.0      15000.0          15000.0   60 months  10+ years   \n",
       "1    10400.0      10400.0          10400.0   36 months    8 years   \n",
       "2    21425.0      21425.0          21425.0   60 months    6 years   \n",
       "3    12800.0      12800.0          12800.0   60 months  10+ years   \n",
       "4     7650.0       7650.0           7650.0   36 months   < 1 year   \n",
       "\n",
       "  home_ownership  annual_inc verification_status  loan_status  \\\n",
       "0           RENT     78000.0     Source Verified   Fully Paid   \n",
       "1       MORTGAGE     58000.0        Not Verified  Charged Off   \n",
       "2           RENT     63800.0     Source Verified   Fully Paid   \n",
       "3       MORTGAGE    125000.0            Verified      Current   \n",
       "4           RENT     50000.0     Source Verified  Charged Off   \n",
       "\n",
       "              purpose          ...          tot_coll_amt tot_cur_bal  \\\n",
       "0  debt_consolidation          ...                   0.0    149140.0   \n",
       "1         credit_card          ...                   0.0    162110.0   \n",
       "2         credit_card          ...                   0.0     42315.0   \n",
       "3                 car          ...                   0.0    261815.0   \n",
       "4  debt_consolidation          ...                   0.0     64426.0   \n",
       "\n",
       "   open_act_il  open_il_24m  total_bal_il  il_util  open_rv_24m  max_bal_bc  \\\n",
       "0          NaN          NaN           NaN      NaN          NaN         NaN   \n",
       "1          NaN          NaN           NaN      NaN          NaN         NaN   \n",
       "2          NaN          NaN           NaN      NaN          NaN         NaN   \n",
       "3          NaN          NaN           NaN      NaN          NaN         NaN   \n",
       "4          NaN          NaN           NaN      NaN          NaN         NaN   \n",
       "\n",
       "   all_util  acc_open_past_24mths  \n",
       "0       NaN                   5.0  \n",
       "1       NaN                   7.0  \n",
       "2       NaN                   4.0  \n",
       "3       NaN                   2.0  \n",
       "4       NaN                   6.0  \n",
       "\n",
       "[5 rows x 34 columns]"
      ]
     },
     "execution_count": 67,
     "metadata": {},
     "output_type": "execute_result"
    }
   ],
   "source": [
    "df.head()"
   ]
  },
  {
   "cell_type": "code",
   "execution_count": 4,
   "metadata": {},
   "outputs": [
    {
     "data": {
      "text/plain": [
       "10+ years    549538\n",
       "2 years      148367\n",
       "< 1 year     133332\n",
       "3 years      130871\n",
       "1 year       107680\n",
       "5 years      101848\n",
       "4 years       98103\n",
       "6 years       75568\n",
       "8 years       72664\n",
       "7 years       70395\n",
       "9 years       63214\n",
       "Name: emp_length, dtype: int64"
      ]
     },
     "execution_count": 4,
     "metadata": {},
     "output_type": "execute_result"
    }
   ],
   "source": [
    "df['emp_length'].value_counts()"
   ]
  },
  {
   "cell_type": "code",
   "execution_count": 5,
   "metadata": {},
   "outputs": [
    {
     "data": {
      "text/plain": [
       "MORTGAGE    815170\n",
       "RENT        653236\n",
       "OWN         177629\n",
       "ANY            507\n",
       "OTHER          182\n",
       "NONE            54\n",
       "Name: home_ownership, dtype: int64"
      ]
     },
     "execution_count": 5,
     "metadata": {},
     "output_type": "execute_result"
    }
   ],
   "source": [
    "df['home_ownership'].value_counts()"
   ]
  },
  {
   "cell_type": "code",
   "execution_count": 6,
   "metadata": {},
   "outputs": [
    {
     "data": {
      "text/plain": [
       "Source Verified    628245\n",
       "Not Verified       516009\n",
       "Verified           502524\n",
       "Name: verification_status, dtype: int64"
      ]
     },
     "execution_count": 6,
     "metadata": {},
     "output_type": "execute_result"
    }
   ],
   "source": [
    "df['verification_status'].value_counts()"
   ]
  },
  {
   "cell_type": "code",
   "execution_count": 7,
   "metadata": {},
   "outputs": [
    {
     "data": {
      "text/plain": [
       "debt_consolidation    955783\n",
       "credit_card           363962\n",
       "home_improvement      109031\n",
       "other                  93576\n",
       "major_purchase         35596\n",
       "medical                18901\n",
       "small_business         18613\n",
       "car                    17641\n",
       "moving                 11388\n",
       "vacation               11152\n",
       "house                   7268\n",
       "wedding                 2350\n",
       "renewable_energy        1094\n",
       "educational              423\n",
       "Name: purpose, dtype: int64"
      ]
     },
     "execution_count": 7,
     "metadata": {},
     "output_type": "execute_result"
    }
   ],
   "source": [
    "df['purpose'].value_counts()"
   ]
  },
  {
   "cell_type": "code",
   "execution_count": 8,
   "metadata": {},
   "outputs": [
    {
     "data": {
      "text/plain": [
       "CA    230904\n",
       "NY    137063\n",
       "TX    135564\n",
       "FL    115714\n",
       "IL     66540\n",
       "NJ     61088\n",
       "PA     57032\n",
       "OH     55414\n",
       "GA     53916\n",
       "VA     46927\n",
       "NC     45955\n",
       "MI     43098\n",
       "MD     39111\n",
       "AZ     38663\n",
       "MA     37906\n",
       "CO     34448\n",
       "WA     34424\n",
       "MN     29409\n",
       "IN     27096\n",
       "MO     26291\n",
       "CT     25849\n",
       "TN     25415\n",
       "NV     23320\n",
       "WI     21722\n",
       "AL     20337\n",
       "SC     20114\n",
       "OR     19403\n",
       "LA     19245\n",
       "KY     15967\n",
       "OK     15044\n",
       "KS     14173\n",
       "AR     12382\n",
       "UT     11034\n",
       "NM      8856\n",
       "MS      8752\n",
       "NH      8092\n",
       "HI      8055\n",
       "RI      7263\n",
       "WV      5156\n",
       "NE      4856\n",
       "DE      4665\n",
       "MT      4608\n",
       "DC      4122\n",
       "AK      3934\n",
       "WY      3566\n",
       "VT      3513\n",
       "SD      3316\n",
       "ME      2982\n",
       "ND      2282\n",
       "ID      2178\n",
       "IA        14\n",
       "Name: addr_state, dtype: int64"
      ]
     },
     "execution_count": 8,
     "metadata": {},
     "output_type": "execute_result"
    }
   ],
   "source": [
    "df['addr_state'].value_counts()"
   ]
  },
  {
   "cell_type": "code",
   "execution_count": 9,
   "metadata": {},
   "outputs": [
    {
     "data": {
      "text/plain": [
       "Current                                                788950\n",
       "Fully Paid                                             646902\n",
       "Charged Off                                            168084\n",
       "Late (31-120 days)                                      23763\n",
       "In Grace Period                                         10474\n",
       "Late (16-30 days)                                        5786\n",
       "Does not meet the credit policy. Status:Fully Paid       1988\n",
       "Does not meet the credit policy. Status:Charged Off       761\n",
       "Default                                                    70\n",
       "Name: loan_status, dtype: int64"
      ]
     },
     "execution_count": 9,
     "metadata": {},
     "output_type": "execute_result"
    }
   ],
   "source": [
    "df['loan_status'].value_counts()"
   ]
  },
  {
   "cell_type": "code",
   "execution_count": 10,
   "metadata": {},
   "outputs": [
    {
     "data": {
      "text/plain": [
       "Individual    1612264\n",
       "Joint App       34514\n",
       "Name: application_type, dtype: int64"
      ]
     },
     "execution_count": 10,
     "metadata": {},
     "output_type": "execute_result"
    }
   ],
   "source": [
    "df['application_type'].value_counts()"
   ]
  },
  {
   "cell_type": "code",
   "execution_count": 11,
   "metadata": {},
   "outputs": [
    {
     "data": {
      "text/plain": [
       " 36 months    1182406\n",
       " 60 months     464372\n",
       "Name: term, dtype: int64"
      ]
     },
     "execution_count": 11,
     "metadata": {},
     "output_type": "execute_result"
    }
   ],
   "source": [
    "df['term'].value_counts()"
   ]
  },
  {
   "cell_type": "markdown",
   "metadata": {},
   "source": [
    "# Predictor"
   ]
  },
  {
   "cell_type": "code",
   "execution_count": 20,
   "metadata": {},
   "outputs": [],
   "source": [
    "from sklearn.model_selection import train_test_split,KFold\n",
    "from sklearn.ensemble import RandomForestClassifier, RandomForestRegressor\n",
    "import numpy as np\n",
    "import matplotlib.pyplot as plt\n",
    "%matplotlib inline"
   ]
  },
  {
   "cell_type": "code",
   "execution_count": 21,
   "metadata": {},
   "outputs": [],
   "source": [
    "def plot_importances(clf,x_data):\n",
    "    importances = clf.feature_importances_\n",
    "    std = np.std([tree.feature_importances_ for tree in clf.estimators_],\n",
    "                 axis=0)\n",
    "    indices = np.argsort(importances)[::-1]\n",
    "    labels=[]\n",
    "    for x in indices:\n",
    "        labels.append(x_data.columns[x])\n",
    "    X=x_data\n",
    "    \n",
    "    plt.figure(figsize=(30,5))\n",
    "    plt.title(\"Feature importances\")\n",
    "    plt.bar(range(X.shape[1]), importances[indices],\n",
    "           color=\"r\", yerr=std[indices],align=\"center\")\n",
    "    plt.xticks(range(X.shape[1]), labels)\n",
    "    plt.xlim([-1, X.shape[1]])\n",
    "    plt.show()\n",
    "    plt.savefig(\"trans-customer-model\")"
   ]
  },
  {
   "cell_type": "markdown",
   "metadata": {},
   "source": [
    "### Uses 6 loan status, 200k data"
   ]
  },
  {
   "cell_type": "code",
   "execution_count": 14,
   "metadata": {},
   "outputs": [
    {
     "data": {
      "text/plain": [
       "0    3\n",
       "1    0\n",
       "dtype: int8"
      ]
     },
     "execution_count": 14,
     "metadata": {},
     "output_type": "execute_result"
    }
   ],
   "source": [
    "df_tr = df.truncate(after=200000,axis=0)\n",
    "y_data = df_tr['loan_status'].astype('category').cat.codes\n",
    "y_data.head(2)"
   ]
  },
  {
   "cell_type": "code",
   "execution_count": 15,
   "metadata": {},
   "outputs": [],
   "source": [
    "x_data=df_tr.drop(['loan_status'],axis=1)\n",
    "x_data= x_data.astype('category')\n",
    "for each in x_data:\n",
    "    x_data[each] = x_data[each].cat.codes"
   ]
  },
  {
   "cell_type": "code",
   "execution_count": 16,
   "metadata": {},
   "outputs": [
    {
     "data": {
      "text/html": [
       "<div>\n",
       "<style scoped>\n",
       "    .dataframe tbody tr th:only-of-type {\n",
       "        vertical-align: middle;\n",
       "    }\n",
       "\n",
       "    .dataframe tbody tr th {\n",
       "        vertical-align: top;\n",
       "    }\n",
       "\n",
       "    .dataframe thead th {\n",
       "        text-align: right;\n",
       "    }\n",
       "</style>\n",
       "<table border=\"1\" class=\"dataframe\">\n",
       "  <thead>\n",
       "    <tr style=\"text-align: right;\">\n",
       "      <th></th>\n",
       "      <th>loan_amnt</th>\n",
       "      <th>funded_amnt</th>\n",
       "      <th>funded_amnt_inv</th>\n",
       "      <th>term</th>\n",
       "      <th>emp_length</th>\n",
       "      <th>home_ownership</th>\n",
       "      <th>annual_inc</th>\n",
       "      <th>verification_status</th>\n",
       "      <th>purpose</th>\n",
       "      <th>addr_state</th>\n",
       "      <th>...</th>\n",
       "      <th>tot_coll_amt</th>\n",
       "      <th>tot_cur_bal</th>\n",
       "      <th>open_act_il</th>\n",
       "      <th>open_il_24m</th>\n",
       "      <th>total_bal_il</th>\n",
       "      <th>il_util</th>\n",
       "      <th>open_rv_24m</th>\n",
       "      <th>max_bal_bc</th>\n",
       "      <th>all_util</th>\n",
       "      <th>acc_open_past_24mths</th>\n",
       "    </tr>\n",
       "  </thead>\n",
       "  <tbody>\n",
       "    <tr>\n",
       "      <th>0</th>\n",
       "      <td>559</td>\n",
       "      <td>559</td>\n",
       "      <td>559</td>\n",
       "      <td>1</td>\n",
       "      <td>1</td>\n",
       "      <td>3</td>\n",
       "      <td>10936</td>\n",
       "      <td>1</td>\n",
       "      <td>2</td>\n",
       "      <td>41</td>\n",
       "      <td>...</td>\n",
       "      <td>0</td>\n",
       "      <td>75960</td>\n",
       "      <td>-1</td>\n",
       "      <td>-1</td>\n",
       "      <td>-1</td>\n",
       "      <td>-1</td>\n",
       "      <td>-1</td>\n",
       "      <td>-1</td>\n",
       "      <td>-1</td>\n",
       "      <td>5</td>\n",
       "    </tr>\n",
       "    <tr>\n",
       "      <th>1</th>\n",
       "      <td>375</td>\n",
       "      <td>375</td>\n",
       "      <td>375</td>\n",
       "      <td>0</td>\n",
       "      <td>8</td>\n",
       "      <td>1</td>\n",
       "      <td>7648</td>\n",
       "      <td>0</td>\n",
       "      <td>1</td>\n",
       "      <td>4</td>\n",
       "      <td>...</td>\n",
       "      <td>0</td>\n",
       "      <td>80184</td>\n",
       "      <td>-1</td>\n",
       "      <td>-1</td>\n",
       "      <td>-1</td>\n",
       "      <td>-1</td>\n",
       "      <td>-1</td>\n",
       "      <td>-1</td>\n",
       "      <td>-1</td>\n",
       "      <td>7</td>\n",
       "    </tr>\n",
       "  </tbody>\n",
       "</table>\n",
       "<p>2 rows × 30 columns</p>\n",
       "</div>"
      ],
      "text/plain": [
       "   loan_amnt  funded_amnt  funded_amnt_inv  term  emp_length  home_ownership  \\\n",
       "0        559          559              559     1           1               3   \n",
       "1        375          375              375     0           8               1   \n",
       "\n",
       "   annual_inc  verification_status  purpose  addr_state          ...           \\\n",
       "0       10936                    1        2          41          ...            \n",
       "1        7648                    0        1           4          ...            \n",
       "\n",
       "   tot_coll_amt  tot_cur_bal  open_act_il  open_il_24m  total_bal_il  il_util  \\\n",
       "0             0        75960           -1           -1            -1       -1   \n",
       "1             0        80184           -1           -1            -1       -1   \n",
       "\n",
       "   open_rv_24m  max_bal_bc  all_util  acc_open_past_24mths  \n",
       "0           -1          -1        -1                     5  \n",
       "1           -1          -1        -1                     7  \n",
       "\n",
       "[2 rows x 30 columns]"
      ]
     },
     "execution_count": 16,
     "metadata": {},
     "output_type": "execute_result"
    }
   ],
   "source": [
    "x_data.head(2)"
   ]
  },
  {
   "cell_type": "code",
   "execution_count": 132,
   "metadata": {},
   "outputs": [],
   "source": [
    "X_train, X_test, y_train, y_test = train_test_split(x_data, y_data, test_size=0.3, random_state=42)"
   ]
  },
  {
   "cell_type": "code",
   "execution_count": 146,
   "metadata": {},
   "outputs": [],
   "source": [
    "def RFC(X_train,X_test, y_train ,y_test):\n",
    "    clf = RandomForestClassifier(n_estimators = 100,\n",
    "                                 max_features='sqrt',\n",
    "                                 max_depth=None,\n",
    "                                 n_jobs=-1)\n",
    "    clf.fit(X_train, y_train.ravel())\n",
    "    score = clf.score(X_test,y_test.ravel())\n",
    "    return (clf,score)"
   ]
  },
  {
   "cell_type": "code",
   "execution_count": 147,
   "metadata": {},
   "outputs": [],
   "source": [
    "clf,score = RFC(X_train,X_test, y_train ,y_test)"
   ]
  },
  {
   "cell_type": "code",
   "execution_count": 148,
   "metadata": {},
   "outputs": [
    {
     "data": {
      "text/plain": [
       "0.7222046299228346"
      ]
     },
     "execution_count": 148,
     "metadata": {},
     "output_type": "execute_result"
    }
   ],
   "source": [
    "score"
   ]
  },
  {
   "cell_type": "code",
   "execution_count": 76,
   "metadata": {},
   "outputs": [
    {
     "data": {
      "image/png": "[encoded data removed]",
      "text/plain": [
       "<Figure size 2160x360 with 1 Axes>"
      ]
     },
     "metadata": {},
     "output_type": "display_data"
    },
    {
     "data": {
      "text/plain": [
       "<Figure size 432x288 with 0 Axes>"
      ]
     },
     "metadata": {},
     "output_type": "display_data"
    }
   ],
   "source": [
    "plot_importances(clf,x_data)"
   ]
  },
  {
   "cell_type": "markdown",
   "metadata": {},
   "source": [
    "Results: \n",
    "1. 100 estimators, sqrt features, gini,  = 0.7205379910334828\n",
    "2. 1000 estimators, sqrt features, gini = 0.7222046299228346\n",
    "3. 100 estimators, sqrt features, entropy = 0.7194380093665106\n",
    "3. 1000 estimators, sqrt features, entropy = 0.7222046299228346"
   ]
  },
  {
   "cell_type": "markdown",
   "metadata": {},
   "source": [
    "### Using all data, two loan status only"
   ]
  },
  {
   "cell_type": "code",
   "execution_count": 5,
   "metadata": {},
   "outputs": [
    {
     "data": {
      "text/plain": [
       "0    1\n",
       "1    0\n",
       "dtype: int8"
      ]
     },
     "execution_count": 5,
     "metadata": {},
     "output_type": "execute_result"
    }
   ],
   "source": [
    "status=['Charged Off','Fully Paid']\n",
    "df_two_output = df[df['loan_status'].isin(status)]\n",
    "y_data = df_two_output['loan_status'].astype('category').cat.codes\n",
    "y_data.head(2)"
   ]
  },
  {
   "cell_type": "code",
   "execution_count": 6,
   "metadata": {},
   "outputs": [],
   "source": [
    "x_data=df_two_output.drop(['loan_status'],axis=1)\n",
    "x_data= x_data.astype('category')\n",
    "for each in x_data:\n",
    "    x_data[each] = x_data[each].cat.codes"
   ]
  },
  {
   "cell_type": "code",
   "execution_count": 7,
   "metadata": {},
   "outputs": [],
   "source": [
    "X_train, X_test, y_train, y_test = train_test_split(x_data, y_data, test_size=0.3, random_state=42)\n",
    "def RFC(X_train,X_test, y_train ,y_test):\n",
    "    clf = RandomForestClassifier(n_estimators = 100,\n",
    "                                 max_features='sqrt',\n",
    "                                 max_depth=None,\n",
    "                                 criterion=\"entropy\",\n",
    "                                 n_jobs=-1)\n",
    "    clf.fit(X_train, y_train.ravel())\n",
    "    score = clf.score(X_test,y_test.ravel())\n",
    "    return (clf,score)"
   ]
  },
  {
   "cell_type": "code",
   "execution_count": 8,
   "metadata": {},
   "outputs": [
    {
     "data": {
      "text/plain": [
       "0.7954363261566652"
      ]
     },
     "execution_count": 8,
     "metadata": {},
     "output_type": "execute_result"
    }
   ],
   "source": [
    "clf,score = RFC(X_train,X_test, y_train ,y_test)\n",
    "score"
   ]
  },
  {
   "cell_type": "code",
   "execution_count": 9,
   "metadata": {},
   "outputs": [
    {
     "data": {
      "image/png": "[encoded data removed]",
      "text/plain": [
       "<Figure size 2160x360 with 1 Axes>"
      ]
     },
     "metadata": {},
     "output_type": "display_data"
    },
    {
     "data": {
      "text/plain": [
       "<Figure size 432x288 with 0 Axes>"
      ]
     },
     "metadata": {},
     "output_type": "display_data"
    }
   ],
   "source": [
    "plot_importances(clf,x_data)"
   ]
  },
  {
   "cell_type": "markdown",
   "metadata": {},
   "source": [
    "Results: 2 categories of loan_status status=['Charged Off','Fully Paid']\n",
    "\n",
    "1. 100 estimators, sqrt features, gini = 0.7947123879327269\n",
    "2. 1000 estimators, sqrt features, gini = 0.7962297951704731\n",
    "3. 100 estimators, sqrt features, entropy = 0.795215463647667\n",
    "4. 1000 estimators, sqrt features, entropy = 0.7964670178653229"
   ]
  },
  {
   "cell_type": "markdown",
   "metadata": {},
   "source": [
    "## Uses 400k data, 2 labels, Same as research paper"
   ]
  },
  {
   "cell_type": "code",
   "execution_count": 80,
   "metadata": {},
   "outputs": [
    {
     "name": "stdout",
     "output_type": "stream",
     "text": [
      "<class 'pandas.core.frame.DataFrame'>\n",
      "Int64Index: 814986 entries, 0 to 1646792\n",
      "Data columns (total 34 columns):\n",
      "loan_amnt                    814986 non-null float64\n",
      "funded_amnt                  814986 non-null float64\n",
      "funded_amnt_inv              814986 non-null float64\n",
      "term                         814986 non-null object\n",
      "emp_length                   772733 non-null object\n",
      "home_ownership               814986 non-null object\n",
      "annual_inc                   814986 non-null float64\n",
      "verification_status          814986 non-null object\n",
      "loan_status                  814986 non-null object\n",
      "purpose                      814986 non-null object\n",
      "zip_code                     814986 non-null object\n",
      "addr_state                   814986 non-null object\n",
      "dti                          814950 non-null float64\n",
      "delinq_2yrs                  814986 non-null float64\n",
      "fico_range_low               814986 non-null float64\n",
      "fico_range_high              814986 non-null float64\n",
      "open_acc                     814986 non-null float64\n",
      "pub_rec                      814986 non-null float64\n",
      "revol_util                   814496 non-null float64\n",
      "total_acc                    814986 non-null float64\n",
      "application_type             814986 non-null object\n",
      "annual_inc_joint             3779 non-null float64\n",
      "dti_joint                    3779 non-null float64\n",
      "verification_status_joint    3779 non-null object\n",
      "tot_coll_amt                 747459 non-null float64\n",
      "tot_cur_bal                  747459 non-null float64\n",
      "open_act_il                  177225 non-null float64\n",
      "open_il_24m                  177225 non-null float64\n",
      "total_bal_il                 177225 non-null float64\n",
      "il_util                      154918 non-null float64\n",
      "open_rv_24m                  177225 non-null float64\n",
      "max_bal_bc                   177225 non-null float64\n",
      "all_util                     177213 non-null float64\n",
      "acc_open_past_24mths         767705 non-null float64\n",
      "dtypes: float64(24), object(10)\n",
      "memory usage: 217.6+ MB\n"
     ]
    }
   ],
   "source": [
    "status=['Charged Off','Fully Paid']\n",
    "df_two_output = df[df['loan_status'].isin(status)]\n",
    "#df_two_output = df_two_output.truncate(after=400000,axis=0)\n",
    "#df_two_output.to_csv(\"two-label-for-graph.csv\")\n",
    "df_two_output.info()"
   ]
  },
  {
   "cell_type": "code",
   "execution_count": 81,
   "metadata": {},
   "outputs": [
    {
     "data": {
      "text/html": [
       "<div>\n",
       "<style scoped>\n",
       "    .dataframe tbody tr th:only-of-type {\n",
       "        vertical-align: middle;\n",
       "    }\n",
       "\n",
       "    .dataframe tbody tr th {\n",
       "        vertical-align: top;\n",
       "    }\n",
       "\n",
       "    .dataframe thead th {\n",
       "        text-align: right;\n",
       "    }\n",
       "</style>\n",
       "<table border=\"1\" class=\"dataframe\">\n",
       "  <thead>\n",
       "    <tr style=\"text-align: right;\">\n",
       "      <th></th>\n",
       "      <th>loan_amnt</th>\n",
       "      <th>funded_amnt</th>\n",
       "      <th>funded_amnt_inv</th>\n",
       "      <th>term</th>\n",
       "      <th>emp_length</th>\n",
       "      <th>home_ownership</th>\n",
       "      <th>annual_inc</th>\n",
       "      <th>verification_status</th>\n",
       "      <th>purpose</th>\n",
       "      <th>zip_code</th>\n",
       "      <th>...</th>\n",
       "      <th>tot_coll_amt</th>\n",
       "      <th>tot_cur_bal</th>\n",
       "      <th>open_act_il</th>\n",
       "      <th>open_il_24m</th>\n",
       "      <th>total_bal_il</th>\n",
       "      <th>il_util</th>\n",
       "      <th>open_rv_24m</th>\n",
       "      <th>max_bal_bc</th>\n",
       "      <th>all_util</th>\n",
       "      <th>acc_open_past_24mths</th>\n",
       "    </tr>\n",
       "  </thead>\n",
       "  <tbody>\n",
       "    <tr>\n",
       "      <th>0</th>\n",
       "      <td>567</td>\n",
       "      <td>567</td>\n",
       "      <td>5731</td>\n",
       "      <td>1</td>\n",
       "      <td>1</td>\n",
       "      <td>5</td>\n",
       "      <td>30732</td>\n",
       "      <td>1</td>\n",
       "      <td>2</td>\n",
       "      <td>221</td>\n",
       "      <td>...</td>\n",
       "      <td>0</td>\n",
       "      <td>130071</td>\n",
       "      <td>-1</td>\n",
       "      <td>-1</td>\n",
       "      <td>-1</td>\n",
       "      <td>-1</td>\n",
       "      <td>-1</td>\n",
       "      <td>-1</td>\n",
       "      <td>-1</td>\n",
       "      <td>5</td>\n",
       "    </tr>\n",
       "    <tr>\n",
       "      <th>1</th>\n",
       "      <td>383</td>\n",
       "      <td>383</td>\n",
       "      <td>4046</td>\n",
       "      <td>0</td>\n",
       "      <td>8</td>\n",
       "      <td>1</td>\n",
       "      <td>21311</td>\n",
       "      <td>0</td>\n",
       "      <td>1</td>\n",
       "      <td>865</td>\n",
       "      <td>...</td>\n",
       "      <td>0</td>\n",
       "      <td>140030</td>\n",
       "      <td>-1</td>\n",
       "      <td>-1</td>\n",
       "      <td>-1</td>\n",
       "      <td>-1</td>\n",
       "      <td>-1</td>\n",
       "      <td>-1</td>\n",
       "      <td>-1</td>\n",
       "      <td>7</td>\n",
       "    </tr>\n",
       "    <tr>\n",
       "      <th>2</th>\n",
       "      <td>824</td>\n",
       "      <td>824</td>\n",
       "      <td>7199</td>\n",
       "      <td>1</td>\n",
       "      <td>6</td>\n",
       "      <td>5</td>\n",
       "      <td>24314</td>\n",
       "      <td>1</td>\n",
       "      <td>1</td>\n",
       "      <td>617</td>\n",
       "      <td>...</td>\n",
       "      <td>0</td>\n",
       "      <td>41776</td>\n",
       "      <td>-1</td>\n",
       "      <td>-1</td>\n",
       "      <td>-1</td>\n",
       "      <td>-1</td>\n",
       "      <td>-1</td>\n",
       "      <td>-1</td>\n",
       "      <td>-1</td>\n",
       "      <td>4</td>\n",
       "    </tr>\n",
       "    <tr>\n",
       "      <th>4</th>\n",
       "      <td>273</td>\n",
       "      <td>273</td>\n",
       "      <td>2741</td>\n",
       "      <td>0</td>\n",
       "      <td>10</td>\n",
       "      <td>5</td>\n",
       "      <td>16653</td>\n",
       "      <td>1</td>\n",
       "      <td>2</td>\n",
       "      <td>791</td>\n",
       "      <td>...</td>\n",
       "      <td>0</td>\n",
       "      <td>63015</td>\n",
       "      <td>-1</td>\n",
       "      <td>-1</td>\n",
       "      <td>-1</td>\n",
       "      <td>-1</td>\n",
       "      <td>-1</td>\n",
       "      <td>-1</td>\n",
       "      <td>-1</td>\n",
       "      <td>6</td>\n",
       "    </tr>\n",
       "    <tr>\n",
       "      <th>5</th>\n",
       "      <td>351</td>\n",
       "      <td>351</td>\n",
       "      <td>3619</td>\n",
       "      <td>0</td>\n",
       "      <td>1</td>\n",
       "      <td>5</td>\n",
       "      <td>26873</td>\n",
       "      <td>1</td>\n",
       "      <td>2</td>\n",
       "      <td>68</td>\n",
       "      <td>...</td>\n",
       "      <td>0</td>\n",
       "      <td>38040</td>\n",
       "      <td>-1</td>\n",
       "      <td>-1</td>\n",
       "      <td>-1</td>\n",
       "      <td>-1</td>\n",
       "      <td>-1</td>\n",
       "      <td>-1</td>\n",
       "      <td>-1</td>\n",
       "      <td>8</td>\n",
       "    </tr>\n",
       "  </tbody>\n",
       "</table>\n",
       "<p>5 rows × 33 columns</p>\n",
       "</div>"
      ],
      "text/plain": [
       "   loan_amnt  funded_amnt  funded_amnt_inv  term  emp_length  home_ownership  \\\n",
       "0        567          567             5731     1           1               5   \n",
       "1        383          383             4046     0           8               1   \n",
       "2        824          824             7199     1           6               5   \n",
       "4        273          273             2741     0          10               5   \n",
       "5        351          351             3619     0           1               5   \n",
       "\n",
       "   annual_inc  verification_status  purpose  zip_code          ...           \\\n",
       "0       30732                    1        2       221          ...            \n",
       "1       21311                    0        1       865          ...            \n",
       "2       24314                    1        1       617          ...            \n",
       "4       16653                    1        2       791          ...            \n",
       "5       26873                    1        2        68          ...            \n",
       "\n",
       "   tot_coll_amt  tot_cur_bal  open_act_il  open_il_24m  total_bal_il  il_util  \\\n",
       "0             0       130071           -1           -1            -1       -1   \n",
       "1             0       140030           -1           -1            -1       -1   \n",
       "2             0        41776           -1           -1            -1       -1   \n",
       "4             0        63015           -1           -1            -1       -1   \n",
       "5             0        38040           -1           -1            -1       -1   \n",
       "\n",
       "   open_rv_24m  max_bal_bc  all_util  acc_open_past_24mths  \n",
       "0           -1          -1        -1                     5  \n",
       "1           -1          -1        -1                     7  \n",
       "2           -1          -1        -1                     4  \n",
       "4           -1          -1        -1                     6  \n",
       "5           -1          -1        -1                     8  \n",
       "\n",
       "[5 rows x 33 columns]"
      ]
     },
     "execution_count": 81,
     "metadata": {},
     "output_type": "execute_result"
    }
   ],
   "source": [
    "y_data = df_two_output['loan_status'].astype('category').cat.codes\n",
    "x_data=df_two_output.drop(['loan_status'],axis=1)\n",
    "x_data= x_data.astype('category')\n",
    "for each in x_data:\n",
    "    x_data[each] = x_data[each].cat.codes\n",
    "x_data.head()"
   ]
  },
  {
   "cell_type": "code",
   "execution_count": 82,
   "metadata": {},
   "outputs": [
    {
     "name": "stdout",
     "output_type": "stream",
     "text": [
      "loan_amnt  unique value count: 1482\n",
      "funded_amnt  unique value count: 1482\n",
      "funded_amnt_inv  unique value count: 8947\n",
      "term  unique value count: 2\n",
      "emp_length  unique value count: 12\n",
      "home_ownership  unique value count: 6\n",
      "annual_inc  unique value count: 45930\n",
      "verification_status  unique value count: 3\n",
      "purpose  unique value count: 14\n",
      "zip_code  unique value count: 925\n",
      "addr_state  unique value count: 51\n",
      "dti  unique value count: 4946\n",
      "delinq_2yrs  unique value count: 29\n",
      "fico_range_low  unique value count: 40\n",
      "fico_range_high  unique value count: 40\n",
      "open_acc  unique value count: 78\n",
      "pub_rec  unique value count: 30\n",
      "revol_util  unique value count: 1318\n",
      "total_acc  unique value count: 133\n",
      "application_type  unique value count: 2\n",
      "annual_inc_joint  unique value count: 1172\n",
      "dti_joint  unique value count: 2086\n",
      "verification_status_joint  unique value count: 4\n",
      "tot_coll_amt  unique value count: 9914\n",
      "tot_cur_bal  unique value count: 314999\n",
      "open_act_il  unique value count: 42\n",
      "open_il_24m  unique value count: 30\n",
      "total_bal_il  unique value count: 76679\n",
      "il_util  unique value count: 199\n",
      "open_rv_24m  unique value count: 42\n",
      "max_bal_bc  unique value count: 21319\n",
      "all_util  unique value count: 159\n",
      "acc_open_past_24mths  unique value count: 51\n"
     ]
    }
   ],
   "source": [
    "for column in x_data.columns:\n",
    "    print(column,\" unique value count:\" , x_data[column].nunique())"
   ]
  },
  {
   "cell_type": "code",
   "execution_count": 83,
   "metadata": {},
   "outputs": [
    {
     "data": {
      "text/plain": [
       "1    646902\n",
       "0    168084\n",
       "dtype: int64"
      ]
     },
     "execution_count": 83,
     "metadata": {},
     "output_type": "execute_result"
    }
   ],
   "source": [
    "y_data.value_counts()"
   ]
  },
  {
   "cell_type": "code",
   "execution_count": 84,
   "metadata": {},
   "outputs": [],
   "source": [
    "X_train, X_test, y_train, y_test = train_test_split(x_data, y_data, test_size=0.3, random_state=42)"
   ]
  },
  {
   "cell_type": "code",
   "execution_count": 89,
   "metadata": {},
   "outputs": [],
   "source": [
    "def RFC(X_train,X_test, y_train ,y_test):\n",
    "    clf = RandomForestClassifier(n_estimators = 700,\n",
    "                                 max_features='sqrt',\n",
    "                                 max_depth=None,\n",
    "                                 n_jobs=-1)\n",
    "    clf.fit(X_train, y_train.ravel())\n",
    "    score = clf.score(X_test,y_test.ravel())\n",
    "    return (clf,score)"
   ]
  },
  {
   "cell_type": "code",
   "execution_count": 90,
   "metadata": {},
   "outputs": [
    {
     "data": {
      "text/plain": [
       "0.796696060467247"
      ]
     },
     "execution_count": 90,
     "metadata": {},
     "output_type": "execute_result"
    }
   ],
   "source": [
    "clf,score = RFC(X_train,X_test, y_train ,y_test)\n",
    "score"
   ]
  },
  {
   "cell_type": "code",
   "execution_count": null,
   "metadata": {},
   "outputs": [],
   "source": [
    "# Compute ROC curve and ROC area for each class\n",
    "#y_predict = model.predict(X_test).tolist()\n",
    "from sklearn.metrics import roc_curve,auc\n",
    "y_predict =clf.predict(X_test).tolist()\n",
    "fpr,tpr,thresholds=roc_curve(y_predict,list(y_test))\n",
    "print(thresholds)\n",
    "roc_auc = auc(fpr,tpr)\n",
    "\n",
    "# confus_matr=confusion_matrix(y_predict,list(y_test))\n",
    "# TP = confus_matr[0][0] # True Positive\n",
    "# FN = confus_matr[0][1] # False Negative\n",
    "# FP = confus_matr[1][0] # False Positive\n",
    "# TN = confus_matr[1][1] # True Negative"
   ]
  },
  {
   "cell_type": "code",
   "execution_count": null,
   "metadata": {},
   "outputs": [],
   "source": [
    "plt.title('Receiver Operating Characteristic')\n",
    "plt.plot(fpr, tpr, 'b',\n",
    "label='AUC = %0.2f'% roc_auc)\n",
    "plt.legend(loc='lower right')\n",
    "plt.plot([0,1],[0,1],'r--')\n",
    "plt.xlim([0,1.1])\n",
    "plt.ylim([0,1.1])\n",
    "plt.ylabel('True Positive Rate')\n",
    "plt.xlabel('False Positive Rate')\n",
    "plt.show()"
   ]
  },
  {
   "cell_type": "code",
   "execution_count": 46,
   "metadata": {},
   "outputs": [
    {
     "data": {
      "text/plain": [
       "1    453104\n",
       "0    117386\n",
       "dtype: int64"
      ]
     },
     "execution_count": 46,
     "metadata": {},
     "output_type": "execute_result"
    }
   ],
   "source": [
    "y_train.value_counts()"
   ]
  },
  {
   "cell_type": "code",
   "execution_count": 47,
   "metadata": {},
   "outputs": [
    {
     "data": {
      "text/plain": [
       "1    193798\n",
       "0     50698\n",
       "dtype: int64"
      ]
     },
     "execution_count": 47,
     "metadata": {},
     "output_type": "execute_result"
    }
   ],
   "source": [
    "y_test.value_counts()"
   ]
  },
  {
   "cell_type": "code",
   "execution_count": 41,
   "metadata": {},
   "outputs": [
    {
     "data": {
      "image/png": "[encoded data removed]",
      "text/plain": [
       "<Figure size 2160x360 with 1 Axes>"
      ]
     },
     "metadata": {},
     "output_type": "display_data"
    },
    {
     "data": {
      "text/plain": [
       "<Figure size 432x288 with 0 Axes>"
      ]
     },
     "metadata": {},
     "output_type": "display_data"
    }
   ],
   "source": [
    "plot_importances(clf,x_data)"
   ]
  },
  {
   "cell_type": "code",
   "execution_count": 42,
   "metadata": {},
   "outputs": [
    {
     "data": {
      "text/plain": [
       "array([0.00000000e+00, 1.65246463e-02, 1.73894746e-02, 1.65766836e-02,\n",
       "       7.50465192e-03, 8.27077146e-03, 1.62979545e-02, 6.20307230e-03,\n",
       "       8.54340620e-03, 3.29665321e-03, 2.27255172e-03, 1.27298712e-03,\n",
       "       3.71460129e-03, 2.22792942e-03, 2.94107963e-03, 0.00000000e+00,\n",
       "       1.61707656e-03, 1.96026636e-03, 2.97385775e-03, 3.13261594e-03,\n",
       "       2.56880933e-03, 4.49795173e-03, 8.72026796e-04, 3.04882270e-03,\n",
       "       3.57566643e-03, 3.37274485e-03, 1.47192694e-03, 1.98733845e-03,\n",
       "       1.10499291e-03, 2.51476823e-03, 6.61078872e-04, 3.82692359e-03,\n",
       "       3.59156848e-03, 2.89273861e-03, 8.85507298e-04, 0.00000000e+00,\n",
       "       0.00000000e+00, 5.10543257e-02, 5.03398903e-02, 1.00793711e-01,\n",
       "       1.06483521e-02, 5.04791328e-03, 1.13753358e-01, 8.31742877e-02,\n",
       "       4.44317629e-03, 7.57014622e-02, 0.00000000e+00, 1.00880030e-02,\n",
       "       9.64239236e-02, 1.00572195e-01, 1.73687103e-04, 1.28644555e-03,\n",
       "       0.00000000e+00, 3.09970928e-05, 4.56920354e-05, 5.29010577e-05,\n",
       "       3.39439930e-05, 6.32000334e-05, 1.15787635e-03, 3.43025966e-03,\n",
       "       9.73638394e-04, 8.80589331e-04, 7.81369161e-04, 8.36477860e-04,\n",
       "       9.88262313e-04, 1.07424498e-03, 9.66121801e-04, 7.52540819e-04,\n",
       "       1.00424976e-03, 1.15649875e-03, 1.26578785e-03, 3.36287874e-03,\n",
       "       9.95448135e-04, 8.63940652e-04, 9.44778582e-04, 2.78422530e-03,\n",
       "       3.47396895e-03, 3.46232608e-03, 3.32716325e-03, 1.00168212e-04,\n",
       "       7.27640378e-05, 2.80744562e-03, 3.13524370e-03, 2.48362558e-03,\n",
       "       2.35175184e-03, 1.85649688e-03, 2.81694824e-03, 1.19506817e-03,\n",
       "       2.42919980e-03, 1.51131792e-03, 1.02606645e-03, 2.05006996e-03,\n",
       "       2.33756356e-03, 2.11516949e-03, 2.32752690e-03, 2.42168793e-03,\n",
       "       2.33052681e-03, 2.59592561e-03, 2.33170585e-03, 2.39606597e-03,\n",
       "       3.03243381e-04, 1.65024148e-04, 5.20576001e-04, 2.14823007e-03,\n",
       "       2.02650735e-03, 2.31980818e-03, 4.98189916e-04, 2.92755296e-04,\n",
       "       3.50293612e-03, 3.26398883e-03, 3.49159729e-03, 2.78409795e-03,\n",
       "       8.01775066e-06, 9.09569182e-06, 9.45308961e-06, 1.03930005e-05,\n",
       "       7.95370842e-06, 7.26514170e-06, 7.75058365e-06, 9.76717185e-06,\n",
       "       7.84140710e-06, 7.93498422e-06, 7.53128412e-06, 6.95044365e-06,\n",
       "       3.92133206e-06, 0.00000000e+00, 5.06751178e-05, 7.62436446e-05,\n",
       "       9.63262478e-05, 7.25855561e-05, 8.53051042e-05, 8.50044400e-05,\n",
       "       7.71977229e-05, 8.66605919e-05, 7.15644097e-05, 1.22491675e-04,\n",
       "       8.32901033e-05, 1.46772623e-05, 9.92808048e-05, 8.98965885e-05,\n",
       "       4.52771554e-05, 5.45060544e-03, 5.25244647e-03, 5.40961252e-03,\n",
       "       4.60551747e-03, 5.46881183e-03, 5.53113073e-03, 5.20897383e-03])"
      ]
     },
     "execution_count": 42,
     "metadata": {},
     "output_type": "execute_result"
    }
   ],
   "source": [
    "clf.feature_importances_"
   ]
  },
  {
   "cell_type": "markdown",
   "metadata": {},
   "source": [
    "#### Results\n",
    "1. 100 estimators, sqrt features, entropy = 0.8102192198158819\n",
    "2. 700 estimators, sqrt features, entropy = 0.8109477448837671"
   ]
  },
  {
   "cell_type": "code",
   "execution_count": 73,
   "metadata": {},
   "outputs": [
    {
     "name": "stdout",
     "output_type": "stream",
     "text": [
      "Accuracy: 0.8174713557189218\n",
      "Accuracy: 0.8081992184912908\n",
      "Accuracy: 0.8188952910788794\n",
      "Accuracy: 0.8105172527981985\n",
      "Accuracy: 0.8157825021524604\n",
      "Accuracy: 0.822306112987615\n",
      "Accuracy: 0.8293595602357772\n",
      "Accuracy: 0.8577720378833036\n",
      "Accuracy: 0.7626332869726472\n",
      "Accuracy: 0.7463408172726671\n",
      "avg score: 0.8089277435591761\n"
     ]
    }
   ],
   "source": [
    "#K-fold Cross Validation\n",
    "kf = KFold(n_splits=10,random_state=False)\n",
    "score_list=[]\n",
    "for train_index,test_index in kf.split(x_data):\n",
    "    #print(\"Train:\", train_index, \"Validation:\",test_index)\n",
    "    X_train, X_test, y_train, y_test = x_data.iloc[train_index],x_data.iloc[test_index],y_data.iloc[train_index],y_data.iloc[test_index]\n",
    "    clf,score = RFC(X_train,X_test, y_train ,y_test)\n",
    "    score_list.append(score)\n",
    "    print(\"Accuracy:\" ,score)\n",
    "print(\"avg score:\", np.mean(score_list))"
   ]
  }
 ],
 "metadata": {
  "kernelspec": {
   "display_name": "Python 3",
   "language": "python",
   "name": "python3"
  },
  "language_info": {
   "codemirror_mode": {
    "name": "ipython",
    "version": 3
   },
   "file_extension": ".py",
   "mimetype": "text/x-python",
   "name": "python",
   "nbconvert_exporter": "python",
   "pygments_lexer": "ipython3",
   "version": "3.6.5"
  }
 },
 "nbformat": 4,
 "nbformat_minor": 2
}
