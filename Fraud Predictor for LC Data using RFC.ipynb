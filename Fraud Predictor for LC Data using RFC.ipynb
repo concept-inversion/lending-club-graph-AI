{
 "cells": [
  {
   "cell_type": "code",
   "execution_count": 1,
   "metadata": {},
   "outputs": [],
   "source": [
    "import pandas as pd\n",
    "from sklearn import preprocessing"
   ]
  },
  {
   "cell_type": "code",
   "execution_count": 2,
   "metadata": {},
   "outputs": [
    {
     "name": "stderr",
     "output_type": "stream",
     "text": [
      "C:\\ProgramData\\Anaconda3\\lib\\site-packages\\IPython\\core\\interactiveshell.py:2785: DtypeWarning: Columns (21) have mixed types. Specify dtype option on import or set low_memory=False.\n",
      "  interactivity=interactivity, compiler=compiler, result=result)\n",
      "C:\\ProgramData\\Anaconda3\\lib\\site-packages\\numpy\\lib\\arraysetops.py:472: FutureWarning: elementwise comparison failed; returning scalar instead, but in the future will perform elementwise comparison\n",
      "  mask |= (ar1 == a)\n"
     ]
    }
   ],
   "source": [
    "df = pd.read_csv(\"data/columns-removed-loan-data.csv\",index_col=0)"
   ]
  },
  {
   "cell_type": "code",
   "execution_count": 3,
   "metadata": {},
   "outputs": [
    {
     "data": {
      "text/plain": [
       "['loan_amnt',\n",
       " 'funded_amnt',\n",
       " 'funded_amnt_inv',\n",
       " 'term',\n",
       " 'emp_length',\n",
       " 'home_ownership',\n",
       " 'annual_inc',\n",
       " 'verification_status',\n",
       " 'loan_status',\n",
       " 'purpose',\n",
       " 'addr_state',\n",
       " 'dti',\n",
       " 'delinq_2yrs',\n",
       " 'fico_range_low',\n",
       " 'fico_range_high',\n",
       " 'open_acc',\n",
       " 'pub_rec',\n",
       " 'application_type',\n",
       " 'annual_inc_joint',\n",
       " 'dti_joint',\n",
       " 'verification_status_joint',\n",
       " 'tot_coll_amt',\n",
       " 'tot_cur_bal',\n",
       " 'open_act_il',\n",
       " 'open_il_24m',\n",
       " 'total_bal_il',\n",
       " 'il_util',\n",
       " 'open_rv_24m',\n",
       " 'max_bal_bc',\n",
       " 'all_util',\n",
       " 'acc_open_past_24mths']"
      ]
     },
     "execution_count": 3,
     "metadata": {},
     "output_type": "execute_result"
    }
   ],
   "source": [
    "df.head()\n",
    "list(df.columns)"
   ]
  },
  {
   "cell_type": "code",
   "execution_count": 4,
   "metadata": {},
   "outputs": [
    {
     "data": {
      "text/plain": [
       "10+ years    549538\n",
       "2 years      148367\n",
       "< 1 year     133332\n",
       "3 years      130871\n",
       "1 year       107680\n",
       "5 years      101848\n",
       "4 years       98103\n",
       "6 years       75568\n",
       "8 years       72664\n",
       "7 years       70395\n",
       "9 years       63214\n",
       "Name: emp_length, dtype: int64"
      ]
     },
     "execution_count": 4,
     "metadata": {},
     "output_type": "execute_result"
    }
   ],
   "source": [
    "df['emp_length'].value_counts()"
   ]
  },
  {
   "cell_type": "code",
   "execution_count": 5,
   "metadata": {},
   "outputs": [
    {
     "data": {
      "text/plain": [
       "MORTGAGE    815170\n",
       "RENT        653236\n",
       "OWN         177629\n",
       "ANY            507\n",
       "OTHER          182\n",
       "NONE            54\n",
       "Name: home_ownership, dtype: int64"
      ]
     },
     "execution_count": 5,
     "metadata": {},
     "output_type": "execute_result"
    }
   ],
   "source": [
    "df['home_ownership'].value_counts()"
   ]
  },
  {
   "cell_type": "code",
   "execution_count": 6,
   "metadata": {},
   "outputs": [
    {
     "data": {
      "text/plain": [
       "Source Verified    628245\n",
       "Not Verified       516009\n",
       "Verified           502524\n",
       "Name: verification_status, dtype: int64"
      ]
     },
     "execution_count": 6,
     "metadata": {},
     "output_type": "execute_result"
    }
   ],
   "source": [
    "df['verification_status'].value_counts()"
   ]
  },
  {
   "cell_type": "code",
   "execution_count": 7,
   "metadata": {},
   "outputs": [
    {
     "data": {
      "text/plain": [
       "debt_consolidation    955783\n",
       "credit_card           363962\n",
       "home_improvement      109031\n",
       "other                  93576\n",
       "major_purchase         35596\n",
       "medical                18901\n",
       "small_business         18613\n",
       "car                    17641\n",
       "moving                 11388\n",
       "vacation               11152\n",
       "house                   7268\n",
       "wedding                 2350\n",
       "renewable_energy        1094\n",
       "educational              423\n",
       "Name: purpose, dtype: int64"
      ]
     },
     "execution_count": 7,
     "metadata": {},
     "output_type": "execute_result"
    }
   ],
   "source": [
    "df['purpose'].value_counts()"
   ]
  },
  {
   "cell_type": "code",
   "execution_count": 8,
   "metadata": {},
   "outputs": [
    {
     "data": {
      "text/plain": [
       "CA    230904\n",
       "NY    137063\n",
       "TX    135564\n",
       "FL    115714\n",
       "IL     66540\n",
       "NJ     61088\n",
       "PA     57032\n",
       "OH     55414\n",
       "GA     53916\n",
       "VA     46927\n",
       "NC     45955\n",
       "MI     43098\n",
       "MD     39111\n",
       "AZ     38663\n",
       "MA     37906\n",
       "CO     34448\n",
       "WA     34424\n",
       "MN     29409\n",
       "IN     27096\n",
       "MO     26291\n",
       "CT     25849\n",
       "TN     25415\n",
       "NV     23320\n",
       "WI     21722\n",
       "AL     20337\n",
       "SC     20114\n",
       "OR     19403\n",
       "LA     19245\n",
       "KY     15967\n",
       "OK     15044\n",
       "KS     14173\n",
       "AR     12382\n",
       "UT     11034\n",
       "NM      8856\n",
       "MS      8752\n",
       "NH      8092\n",
       "HI      8055\n",
       "RI      7263\n",
       "WV      5156\n",
       "NE      4856\n",
       "DE      4665\n",
       "MT      4608\n",
       "DC      4122\n",
       "AK      3934\n",
       "WY      3566\n",
       "VT      3513\n",
       "SD      3316\n",
       "ME      2982\n",
       "ND      2282\n",
       "ID      2178\n",
       "IA        14\n",
       "Name: addr_state, dtype: int64"
      ]
     },
     "execution_count": 8,
     "metadata": {},
     "output_type": "execute_result"
    }
   ],
   "source": [
    "df['addr_state'].value_counts()"
   ]
  },
  {
   "cell_type": "code",
   "execution_count": 9,
   "metadata": {},
   "outputs": [
    {
     "data": {
      "text/plain": [
       "Current                                                788950\n",
       "Fully Paid                                             646902\n",
       "Charged Off                                            168084\n",
       "Late (31-120 days)                                      23763\n",
       "In Grace Period                                         10474\n",
       "Late (16-30 days)                                        5786\n",
       "Does not meet the credit policy. Status:Fully Paid       1988\n",
       "Does not meet the credit policy. Status:Charged Off       761\n",
       "Default                                                    70\n",
       "Name: loan_status, dtype: int64"
      ]
     },
     "execution_count": 9,
     "metadata": {},
     "output_type": "execute_result"
    }
   ],
   "source": [
    "df['loan_status'].value_counts()"
   ]
  },
  {
   "cell_type": "code",
   "execution_count": 10,
   "metadata": {},
   "outputs": [
    {
     "data": {
      "text/plain": [
       "Individual    1612264\n",
       "Joint App       34514\n",
       "Name: application_type, dtype: int64"
      ]
     },
     "execution_count": 10,
     "metadata": {},
     "output_type": "execute_result"
    }
   ],
   "source": [
    "df['application_type'].value_counts()"
   ]
  },
  {
   "cell_type": "code",
   "execution_count": 11,
   "metadata": {},
   "outputs": [
    {
     "data": {
      "text/plain": [
       " 36 months    1182406\n",
       " 60 months     464372\n",
       "Name: term, dtype: int64"
      ]
     },
     "execution_count": 11,
     "metadata": {},
     "output_type": "execute_result"
    }
   ],
   "source": [
    "df['term'].value_counts()"
   ]
  },
  {
   "cell_type": "markdown",
   "metadata": {},
   "source": [
    "# Predictor"
   ]
  },
  {
   "cell_type": "code",
   "execution_count": 12,
   "metadata": {},
   "outputs": [],
   "source": [
    "from sklearn.model_selection import train_test_split,KFold\n",
    "from sklearn.ensemble import RandomForestClassifier, RandomForestRegressor\n",
    "import numpy as np\n",
    "import matplotlib.pyplot as plt\n",
    "%matplotlib inline"
   ]
  },
  {
   "cell_type": "code",
   "execution_count": 13,
   "metadata": {},
   "outputs": [],
   "source": [
    "def plot_importances(clf,x_data):\n",
    "    importances = clf.feature_importances_\n",
    "    std = np.std([tree.feature_importances_ for tree in clf.estimators_],\n",
    "                 axis=0)\n",
    "    indices = np.argsort(importances)[::-1]\n",
    "    labels=[]\n",
    "    for x in indices:\n",
    "        labels.append(x_data.columns[x])\n",
    "    X=x_data\n",
    "    \n",
    "    plt.figure(figsize=(30,5))\n",
    "    plt.title(\"Feature importances\")\n",
    "    plt.bar(range(X.shape[1]), importances[indices],\n",
    "           color=\"r\", yerr=std[indices],align=\"center\")\n",
    "    plt.xticks(range(X.shape[1]), labels)\n",
    "    plt.xlim([-1, X.shape[1]])\n",
    "    plt.show()\n",
    "    plt.savefig(\"trans-customer-model\")"
   ]
  },
  {
   "cell_type": "markdown",
   "metadata": {},
   "source": [
    "### Uses 6 loan status, 200k data"
   ]
  },
  {
   "cell_type": "code",
   "execution_count": 14,
   "metadata": {},
   "outputs": [
    {
     "data": {
      "text/plain": [
       "0    3\n",
       "1    0\n",
       "dtype: int8"
      ]
     },
     "execution_count": 14,
     "metadata": {},
     "output_type": "execute_result"
    }
   ],
   "source": [
    "df_tr = df.truncate(after=200000,axis=0)\n",
    "y_data = df_tr['loan_status'].astype('category').cat.codes\n",
    "y_data.head(2)"
   ]
  },
  {
   "cell_type": "code",
   "execution_count": 15,
   "metadata": {},
   "outputs": [],
   "source": [
    "x_data=df_tr.drop(['loan_status'],axis=1)\n",
    "x_data= x_data.astype('category')\n",
    "for each in x_data:\n",
    "    x_data[each] = x_data[each].cat.codes"
   ]
  },
  {
   "cell_type": "code",
   "execution_count": 16,
   "metadata": {},
   "outputs": [
    {
     "data": {
      "text/html": [
       "<div>\n",
       "<style scoped>\n",
       "    .dataframe tbody tr th:only-of-type {\n",
       "        vertical-align: middle;\n",
       "    }\n",
       "\n",
       "    .dataframe tbody tr th {\n",
       "        vertical-align: top;\n",
       "    }\n",
       "\n",
       "    .dataframe thead th {\n",
       "        text-align: right;\n",
       "    }\n",
       "</style>\n",
       "<table border=\"1\" class=\"dataframe\">\n",
       "  <thead>\n",
       "    <tr style=\"text-align: right;\">\n",
       "      <th></th>\n",
       "      <th>loan_amnt</th>\n",
       "      <th>funded_amnt</th>\n",
       "      <th>funded_amnt_inv</th>\n",
       "      <th>term</th>\n",
       "      <th>emp_length</th>\n",
       "      <th>home_ownership</th>\n",
       "      <th>annual_inc</th>\n",
       "      <th>verification_status</th>\n",
       "      <th>purpose</th>\n",
       "      <th>addr_state</th>\n",
       "      <th>...</th>\n",
       "      <th>tot_coll_amt</th>\n",
       "      <th>tot_cur_bal</th>\n",
       "      <th>open_act_il</th>\n",
       "      <th>open_il_24m</th>\n",
       "      <th>total_bal_il</th>\n",
       "      <th>il_util</th>\n",
       "      <th>open_rv_24m</th>\n",
       "      <th>max_bal_bc</th>\n",
       "      <th>all_util</th>\n",
       "      <th>acc_open_past_24mths</th>\n",
       "    </tr>\n",
       "  </thead>\n",
       "  <tbody>\n",
       "    <tr>\n",
       "      <th>0</th>\n",
       "      <td>559</td>\n",
       "      <td>559</td>\n",
       "      <td>559</td>\n",
       "      <td>1</td>\n",
       "      <td>1</td>\n",
       "      <td>3</td>\n",
       "      <td>10936</td>\n",
       "      <td>1</td>\n",
       "      <td>2</td>\n",
       "      <td>41</td>\n",
       "      <td>...</td>\n",
       "      <td>0</td>\n",
       "      <td>75960</td>\n",
       "      <td>-1</td>\n",
       "      <td>-1</td>\n",
       "      <td>-1</td>\n",
       "      <td>-1</td>\n",
       "      <td>-1</td>\n",
       "      <td>-1</td>\n",
       "      <td>-1</td>\n",
       "      <td>5</td>\n",
       "    </tr>\n",
       "    <tr>\n",
       "      <th>1</th>\n",
       "      <td>375</td>\n",
       "      <td>375</td>\n",
       "      <td>375</td>\n",
       "      <td>0</td>\n",
       "      <td>8</td>\n",
       "      <td>1</td>\n",
       "      <td>7648</td>\n",
       "      <td>0</td>\n",
       "      <td>1</td>\n",
       "      <td>4</td>\n",
       "      <td>...</td>\n",
       "      <td>0</td>\n",
       "      <td>80184</td>\n",
       "      <td>-1</td>\n",
       "      <td>-1</td>\n",
       "      <td>-1</td>\n",
       "      <td>-1</td>\n",
       "      <td>-1</td>\n",
       "      <td>-1</td>\n",
       "      <td>-1</td>\n",
       "      <td>7</td>\n",
       "    </tr>\n",
       "  </tbody>\n",
       "</table>\n",
       "<p>2 rows × 30 columns</p>\n",
       "</div>"
      ],
      "text/plain": [
       "   loan_amnt  funded_amnt  funded_amnt_inv  term  emp_length  home_ownership  \\\n",
       "0        559          559              559     1           1               3   \n",
       "1        375          375              375     0           8               1   \n",
       "\n",
       "   annual_inc  verification_status  purpose  addr_state          ...           \\\n",
       "0       10936                    1        2          41          ...            \n",
       "1        7648                    0        1           4          ...            \n",
       "\n",
       "   tot_coll_amt  tot_cur_bal  open_act_il  open_il_24m  total_bal_il  il_util  \\\n",
       "0             0        75960           -1           -1            -1       -1   \n",
       "1             0        80184           -1           -1            -1       -1   \n",
       "\n",
       "   open_rv_24m  max_bal_bc  all_util  acc_open_past_24mths  \n",
       "0           -1          -1        -1                     5  \n",
       "1           -1          -1        -1                     7  \n",
       "\n",
       "[2 rows x 30 columns]"
      ]
     },
     "execution_count": 16,
     "metadata": {},
     "output_type": "execute_result"
    }
   ],
   "source": [
    "x_data.head(2)"
   ]
  },
  {
   "cell_type": "code",
   "execution_count": 132,
   "metadata": {},
   "outputs": [],
   "source": [
    "X_train, X_test, y_train, y_test = train_test_split(x_data, y_data, test_size=0.3, random_state=42)"
   ]
  },
  {
   "cell_type": "code",
   "execution_count": 146,
   "metadata": {},
   "outputs": [],
   "source": [
    "def RFC(X_train,X_test, y_train ,y_test):\n",
    "    clf = RandomForestClassifier(n_estimators = 100,\n",
    "                                 max_features='sqrt',\n",
    "                                 max_depth=None,\n",
    "                                 n_jobs=-1)\n",
    "    clf.fit(X_train, y_train.ravel())\n",
    "    score = clf.score(X_test,y_test.ravel())\n",
    "    return (clf,score)"
   ]
  },
  {
   "cell_type": "code",
   "execution_count": 147,
   "metadata": {},
   "outputs": [],
   "source": [
    "clf,score = RFC(X_train,X_test, y_train ,y_test)"
   ]
  },
  {
   "cell_type": "code",
   "execution_count": 148,
   "metadata": {},
   "outputs": [
    {
     "data": {
      "text/plain": [
       "0.7222046299228346"
      ]
     },
     "execution_count": 148,
     "metadata": {},
     "output_type": "execute_result"
    }
   ],
   "source": [
    "score"
   ]
  },
  {
   "cell_type": "code",
   "execution_count": 76,
   "metadata": {},
   "outputs": [
    {
     "data": {
      "image/png": "[encoded data removed]",
      "text/plain": [
       "<Figure size 2160x360 with 1 Axes>"
      ]
     },
     "metadata": {},
     "output_type": "display_data"
    },
    {
     "data": {
      "text/plain": [
       "<Figure size 432x288 with 0 Axes>"
      ]
     },
     "metadata": {},
     "output_type": "display_data"
    }
   ],
   "source": [
    "plot_importances(clf,x_data)"
   ]
  },
  {
   "cell_type": "markdown",
   "metadata": {},
   "source": [
    "Results: \n",
    "1. 100 estimators, sqrt features, gini,  = 0.7205379910334828\n",
    "2. 1000 estimators, sqrt features, gini = 0.7222046299228346\n",
    "3. 100 estimators, sqrt features, entropy = 0.7194380093665106\n",
    "3. 1000 estimators, sqrt features, entropy = 0.7222046299228346"
   ]
  },
  {
   "cell_type": "markdown",
   "metadata": {},
   "source": [
    "### Using all data, two loan status only"
   ]
  },
  {
   "cell_type": "code",
   "execution_count": 5,
   "metadata": {},
   "outputs": [
    {
     "data": {
      "text/plain": [
       "0    1\n",
       "1    0\n",
       "dtype: int8"
      ]
     },
     "execution_count": 5,
     "metadata": {},
     "output_type": "execute_result"
    }
   ],
   "source": [
    "status=['Charged Off','Fully Paid']\n",
    "df_two_output = df[df['loan_status'].isin(status)]\n",
    "y_data = df_two_output['loan_status'].astype('category').cat.codes\n",
    "y_data.head(2)"
   ]
  },
  {
   "cell_type": "code",
   "execution_count": 6,
   "metadata": {},
   "outputs": [],
   "source": [
    "x_data=df_two_output.drop(['loan_status'],axis=1)\n",
    "x_data= x_data.astype('category')\n",
    "for each in x_data:\n",
    "    x_data[each] = x_data[each].cat.codes"
   ]
  },
  {
   "cell_type": "code",
   "execution_count": 7,
   "metadata": {},
   "outputs": [],
   "source": [
    "X_train, X_test, y_train, y_test = train_test_split(x_data, y_data, test_size=0.3, random_state=42)\n",
    "def RFC(X_train,X_test, y_train ,y_test):\n",
    "    clf = RandomForestClassifier(n_estimators = 100,\n",
    "                                 max_features='sqrt',\n",
    "                                 max_depth=None,\n",
    "                                 criterion=\"entropy\",\n",
    "                                 n_jobs=-1)\n",
    "    clf.fit(X_train, y_train.ravel())\n",
    "    score = clf.score(X_test,y_test.ravel())\n",
    "    return (clf,score)"
   ]
  },
  {
   "cell_type": "code",
   "execution_count": 8,
   "metadata": {},
   "outputs": [
    {
     "data": {
      "text/plain": [
       "0.7954363261566652"
      ]
     },
     "execution_count": 8,
     "metadata": {},
     "output_type": "execute_result"
    }
   ],
   "source": [
    "clf,score = RFC(X_train,X_test, y_train ,y_test)\n",
    "score"
   ]
  },
  {
   "cell_type": "code",
   "execution_count": 9,
   "metadata": {},
   "outputs": [
    {
     "data": {
      "image/png": "[encoded data removed]",
      "text/plain": [
       "<Figure size 2160x360 with 1 Axes>"
      ]
     },
     "metadata": {},
     "output_type": "display_data"
    },
    {
     "data": {
      "text/plain": [
       "<Figure size 432x288 with 0 Axes>"
      ]
     },
     "metadata": {},
     "output_type": "display_data"
    }
   ],
   "source": [
    "plot_importances(clf,x_data)"
   ]
  },
  {
   "cell_type": "markdown",
   "metadata": {},
   "source": [
    "Results: 2 categories of loan_status status=['Charged Off','Fully Paid']\n",
    "\n",
    "1. 100 estimators, sqrt features, gini = 0.7947123879327269\n",
    "2. 1000 estimators, sqrt features, gini = 0.7962297951704731\n",
    "3. 100 estimators, sqrt features, entropy = 0.795215463647667\n",
    "4. 1000 estimators, sqrt features, entropy = 0.7964670178653229"
   ]
  },
  {
   "cell_type": "markdown",
   "metadata": {},
   "source": [
    "## Uses 400k data, 2 labels, Same as research paper"
   ]
  },
  {
   "cell_type": "code",
   "execution_count": 17,
   "metadata": {},
   "outputs": [
    {
     "name": "stdout",
     "output_type": "stream",
     "text": [
      "<class 'pandas.core.frame.DataFrame'>\n",
      "Int64Index: 301980 entries, 0 to 399998\n",
      "Data columns (total 31 columns):\n",
      "loan_amnt                    301980 non-null float64\n",
      "funded_amnt                  301980 non-null float64\n",
      "funded_amnt_inv              301980 non-null float64\n",
      "term                         301980 non-null object\n",
      "emp_length                   286696 non-null object\n",
      "home_ownership               301980 non-null object\n",
      "annual_inc                   301980 non-null float64\n",
      "verification_status          301980 non-null object\n",
      "loan_status                  301980 non-null object\n",
      "purpose                      301980 non-null object\n",
      "addr_state                   301980 non-null object\n",
      "dti                          301978 non-null float64\n",
      "delinq_2yrs                  301980 non-null float64\n",
      "fico_range_low               301980 non-null float64\n",
      "fico_range_high              301980 non-null float64\n",
      "open_acc                     301980 non-null float64\n",
      "pub_rec                      301980 non-null float64\n",
      "application_type             301980 non-null object\n",
      "annual_inc_joint             217 non-null float64\n",
      "dti_joint                    217 non-null float64\n",
      "verification_status_joint    217 non-null object\n",
      "tot_coll_amt                 262194 non-null float64\n",
      "tot_cur_bal                  262194 non-null float64\n",
      "open_act_il                  9333 non-null float64\n",
      "open_il_24m                  9333 non-null float64\n",
      "total_bal_il                 9333 non-null float64\n",
      "il_util                      8221 non-null float64\n",
      "open_rv_24m                  9333 non-null float64\n",
      "max_bal_bc                   9333 non-null float64\n",
      "all_util                     9333 non-null float64\n",
      "acc_open_past_24mths         262194 non-null float64\n",
      "dtypes: float64(22), object(9)\n",
      "memory usage: 73.7+ MB\n"
     ]
    }
   ],
   "source": [
    "status=['Charged Off','Fully Paid']\n",
    "df_two_output = df[df['loan_status'].isin(status)]\n",
    "df_two_output = df_two_output.truncate(after=400000,axis=0)\n",
    "#df_two_output.to_csv(\"two-label-for-graph.csv\")\n",
    "df_two_output.info()"
   ]
  },
  {
   "cell_type": "code",
   "execution_count": 18,
   "metadata": {},
   "outputs": [
    {
     "data": {
      "text/html": [
       "<div>\n",
       "<style scoped>\n",
       "    .dataframe tbody tr th:only-of-type {\n",
       "        vertical-align: middle;\n",
       "    }\n",
       "\n",
       "    .dataframe tbody tr th {\n",
       "        vertical-align: top;\n",
       "    }\n",
       "\n",
       "    .dataframe thead th {\n",
       "        text-align: right;\n",
       "    }\n",
       "</style>\n",
       "<table border=\"1\" class=\"dataframe\">\n",
       "  <thead>\n",
       "    <tr style=\"text-align: right;\">\n",
       "      <th></th>\n",
       "      <th>loan_amnt</th>\n",
       "      <th>funded_amnt</th>\n",
       "      <th>funded_amnt_inv</th>\n",
       "      <th>term</th>\n",
       "      <th>emp_length</th>\n",
       "      <th>home_ownership</th>\n",
       "      <th>annual_inc</th>\n",
       "      <th>verification_status</th>\n",
       "      <th>purpose</th>\n",
       "      <th>addr_state</th>\n",
       "      <th>...</th>\n",
       "      <th>tot_coll_amt</th>\n",
       "      <th>tot_cur_bal</th>\n",
       "      <th>open_act_il</th>\n",
       "      <th>open_il_24m</th>\n",
       "      <th>total_bal_il</th>\n",
       "      <th>il_util</th>\n",
       "      <th>open_rv_24m</th>\n",
       "      <th>max_bal_bc</th>\n",
       "      <th>all_util</th>\n",
       "      <th>acc_open_past_24mths</th>\n",
       "    </tr>\n",
       "  </thead>\n",
       "  <tbody>\n",
       "    <tr>\n",
       "      <th>0</th>\n",
       "      <td>567</td>\n",
       "      <td>567</td>\n",
       "      <td>5569</td>\n",
       "      <td>1</td>\n",
       "      <td>1</td>\n",
       "      <td>5</td>\n",
       "      <td>15148</td>\n",
       "      <td>1</td>\n",
       "      <td>2</td>\n",
       "      <td>45</td>\n",
       "      <td>...</td>\n",
       "      <td>0</td>\n",
       "      <td>88305</td>\n",
       "      <td>-1</td>\n",
       "      <td>-1</td>\n",
       "      <td>-1</td>\n",
       "      <td>-1</td>\n",
       "      <td>-1</td>\n",
       "      <td>-1</td>\n",
       "      <td>-1</td>\n",
       "      <td>5</td>\n",
       "    </tr>\n",
       "    <tr>\n",
       "      <th>1</th>\n",
       "      <td>383</td>\n",
       "      <td>383</td>\n",
       "      <td>3940</td>\n",
       "      <td>0</td>\n",
       "      <td>8</td>\n",
       "      <td>1</td>\n",
       "      <td>10684</td>\n",
       "      <td>0</td>\n",
       "      <td>1</td>\n",
       "      <td>4</td>\n",
       "      <td>...</td>\n",
       "      <td>0</td>\n",
       "      <td>93500</td>\n",
       "      <td>-1</td>\n",
       "      <td>-1</td>\n",
       "      <td>-1</td>\n",
       "      <td>-1</td>\n",
       "      <td>-1</td>\n",
       "      <td>-1</td>\n",
       "      <td>-1</td>\n",
       "      <td>7</td>\n",
       "    </tr>\n",
       "    <tr>\n",
       "      <th>2</th>\n",
       "      <td>824</td>\n",
       "      <td>824</td>\n",
       "      <td>6951</td>\n",
       "      <td>1</td>\n",
       "      <td>6</td>\n",
       "      <td>5</td>\n",
       "      <td>12095</td>\n",
       "      <td>1</td>\n",
       "      <td>1</td>\n",
       "      <td>24</td>\n",
       "      <td>...</td>\n",
       "      <td>0</td>\n",
       "      <td>36644</td>\n",
       "      <td>-1</td>\n",
       "      <td>-1</td>\n",
       "      <td>-1</td>\n",
       "      <td>-1</td>\n",
       "      <td>-1</td>\n",
       "      <td>-1</td>\n",
       "      <td>-1</td>\n",
       "      <td>4</td>\n",
       "    </tr>\n",
       "    <tr>\n",
       "      <th>4</th>\n",
       "      <td>273</td>\n",
       "      <td>273</td>\n",
       "      <td>2682</td>\n",
       "      <td>0</td>\n",
       "      <td>10</td>\n",
       "      <td>5</td>\n",
       "      <td>8387</td>\n",
       "      <td>1</td>\n",
       "      <td>2</td>\n",
       "      <td>3</td>\n",
       "      <td>...</td>\n",
       "      <td>0</td>\n",
       "      <td>52041</td>\n",
       "      <td>-1</td>\n",
       "      <td>-1</td>\n",
       "      <td>-1</td>\n",
       "      <td>-1</td>\n",
       "      <td>-1</td>\n",
       "      <td>-1</td>\n",
       "      <td>-1</td>\n",
       "      <td>6</td>\n",
       "    </tr>\n",
       "    <tr>\n",
       "      <th>5</th>\n",
       "      <td>351</td>\n",
       "      <td>351</td>\n",
       "      <td>3525</td>\n",
       "      <td>0</td>\n",
       "      <td>1</td>\n",
       "      <td>5</td>\n",
       "      <td>13288</td>\n",
       "      <td>1</td>\n",
       "      <td>2</td>\n",
       "      <td>31</td>\n",
       "      <td>...</td>\n",
       "      <td>0</td>\n",
       "      <td>33553</td>\n",
       "      <td>-1</td>\n",
       "      <td>-1</td>\n",
       "      <td>-1</td>\n",
       "      <td>-1</td>\n",
       "      <td>-1</td>\n",
       "      <td>-1</td>\n",
       "      <td>-1</td>\n",
       "      <td>8</td>\n",
       "    </tr>\n",
       "  </tbody>\n",
       "</table>\n",
       "<p>5 rows × 30 columns</p>\n",
       "</div>"
      ],
      "text/plain": [
       "   loan_amnt  funded_amnt  funded_amnt_inv  term  emp_length  home_ownership  \\\n",
       "0        567          567             5569     1           1               5   \n",
       "1        383          383             3940     0           8               1   \n",
       "2        824          824             6951     1           6               5   \n",
       "4        273          273             2682     0          10               5   \n",
       "5        351          351             3525     0           1               5   \n",
       "\n",
       "   annual_inc  verification_status  purpose  addr_state          ...           \\\n",
       "0       15148                    1        2          45          ...            \n",
       "1       10684                    0        1           4          ...            \n",
       "2       12095                    1        1          24          ...            \n",
       "4        8387                    1        2           3          ...            \n",
       "5       13288                    1        2          31          ...            \n",
       "\n",
       "   tot_coll_amt  tot_cur_bal  open_act_il  open_il_24m  total_bal_il  il_util  \\\n",
       "0             0        88305           -1           -1            -1       -1   \n",
       "1             0        93500           -1           -1            -1       -1   \n",
       "2             0        36644           -1           -1            -1       -1   \n",
       "4             0        52041           -1           -1            -1       -1   \n",
       "5             0        33553           -1           -1            -1       -1   \n",
       "\n",
       "   open_rv_24m  max_bal_bc  all_util  acc_open_past_24mths  \n",
       "0           -1          -1        -1                     5  \n",
       "1           -1          -1        -1                     7  \n",
       "2           -1          -1        -1                     4  \n",
       "4           -1          -1        -1                     6  \n",
       "5           -1          -1        -1                     8  \n",
       "\n",
       "[5 rows x 30 columns]"
      ]
     },
     "execution_count": 18,
     "metadata": {},
     "output_type": "execute_result"
    }
   ],
   "source": [
    "y_data = df_two_output['loan_status'].astype('category').cat.codes\n",
    "x_data=df_two_output.drop(['loan_status'],axis=1)\n",
    "x_data= x_data.astype('category')\n",
    "for each in x_data:\n",
    "    x_data[each] = x_data[each].cat.codes\n",
    "x_data.head()"
   ]
  },
  {
   "cell_type": "code",
   "execution_count": 19,
   "metadata": {},
   "outputs": [],
   "source": [
    "X_train, X_test, y_train, y_test = train_test_split(x_data, y_data, test_size=0.3, random_state=42)"
   ]
  },
  {
   "cell_type": "code",
   "execution_count": 29,
   "metadata": {},
   "outputs": [],
   "source": [
    "def RFC(X_train,X_test, y_train ,y_test):\n",
    "    clf = RandomForestClassifier(n_estimators = 700,\n",
    "                                 max_features='sqrt',\n",
    "                                 max_depth=None,\n",
    "                                 criterion=\"entropy\",\n",
    "                                 n_jobs=-1)\n",
    "    clf.fit(X_train, y_train.ravel())\n",
    "    score = clf.score(X_test,y_test.ravel())\n",
    "    return (clf,score)"
   ]
  },
  {
   "cell_type": "code",
   "execution_count": 30,
   "metadata": {},
   "outputs": [
    {
     "data": {
      "text/plain": [
       "0.8104179084707597"
      ]
     },
     "execution_count": 30,
     "metadata": {},
     "output_type": "execute_result"
    }
   ],
   "source": [
    "clf,score = RFC(X_train,X_test, y_train ,y_test)\n",
    "score"
   ]
  },
  {
   "cell_type": "code",
   "execution_count": 31,
   "metadata": {},
   "outputs": [
    {
     "name": "stdout",
     "output_type": "stream",
     "text": [
      "[2 1 0]\n"
     ]
    }
   ],
   "source": [
    "# Compute ROC curve and ROC area for each class\n",
    "#y_predict = model.predict(X_test).tolist()\n",
    "from sklearn.metrics import roc_curve,auc\n",
    "y_predict =clf.predict(X_test).tolist()\n",
    "fpr,tpr,thresholds=roc_curve(y_predict,list(y_test))\n",
    "print(thresholds)\n",
    "roc_auc = auc(fpr,tpr)\n",
    "\n",
    "# confus_matr=confusion_matrix(y_predict,list(y_test))\n",
    "# TP = confus_matr[0][0] # True Positive\n",
    "# FN = confus_matr[0][1] # False Negative\n",
    "# FP = confus_matr[1][0] # False Positive\n",
    "# TN = confus_matr[1][1] # True Negative"
   ]
  },
  {
   "cell_type": "code",
   "execution_count": 32,
   "metadata": {},
   "outputs": [
    {
     "data": {
      "image/png": "[encoded data removed]",
      "text/plain": [
       "<Figure size 432x288 with 1 Axes>"
      ]
     },
     "metadata": {},
     "output_type": "display_data"
    }
   ],
   "source": [
    "plt.title('Receiver Operating Characteristic')\n",
    "plt.plot(fpr, tpr, 'b',\n",
    "label='AUC = %0.2f'% roc_auc)\n",
    "plt.legend(loc='lower right')\n",
    "plt.plot([0,1],[0,1],'r--')\n",
    "plt.xlim([-0.1,1.2])\n",
    "plt.ylim([-0.1,1.2])\n",
    "plt.ylabel('True Positive Rate')\n",
    "plt.xlabel('False Positive Rate')\n",
    "plt.show()"
   ]
  },
  {
   "cell_type": "code",
   "execution_count": 18,
   "metadata": {},
   "outputs": [
    {
     "data": {
      "text/plain": [
       "1    170530\n",
       "0     40856\n",
       "dtype: int64"
      ]
     },
     "execution_count": 18,
     "metadata": {},
     "output_type": "execute_result"
    }
   ],
   "source": [
    "y_train.value_counts()"
   ]
  },
  {
   "cell_type": "code",
   "execution_count": 19,
   "metadata": {},
   "outputs": [
    {
     "data": {
      "text/plain": [
       "1    73245\n",
       "0    17349\n",
       "dtype: int64"
      ]
     },
     "execution_count": 19,
     "metadata": {},
     "output_type": "execute_result"
    }
   ],
   "source": [
    "y_test.value_counts()"
   ]
  },
  {
   "cell_type": "code",
   "execution_count": 25,
   "metadata": {},
   "outputs": [
    {
     "data": {
      "image/png": "[encoded data removed]",
      "text/plain": [
       "<Figure size 2160x360 with 1 Axes>"
      ]
     },
     "metadata": {},
     "output_type": "display_data"
    },
    {
     "data": {
      "text/plain": [
       "<Figure size 432x288 with 0 Axes>"
      ]
     },
     "metadata": {},
     "output_type": "display_data"
    }
   ],
   "source": [
    "plot_importances(clf,x_data)"
   ]
  },
  {
   "cell_type": "markdown",
   "metadata": {},
   "source": [
    "#### Results\n",
    "1. 100 estimators, sqrt features, entropy = 0.8102192198158819\n",
    "2. 700 estimators, sqrt features, entropy = 0.8109477448837671"
   ]
  },
  {
   "cell_type": "code",
   "execution_count": 73,
   "metadata": {},
   "outputs": [
    {
     "name": "stdout",
     "output_type": "stream",
     "text": [
      "Accuracy: 0.8174713557189218\n",
      "Accuracy: 0.8081992184912908\n",
      "Accuracy: 0.8188952910788794\n",
      "Accuracy: 0.8105172527981985\n",
      "Accuracy: 0.8157825021524604\n",
      "Accuracy: 0.822306112987615\n",
      "Accuracy: 0.8293595602357772\n",
      "Accuracy: 0.8577720378833036\n",
      "Accuracy: 0.7626332869726472\n",
      "Accuracy: 0.7463408172726671\n",
      "avg score: 0.8089277435591761\n"
     ]
    }
   ],
   "source": [
    "#K-fold Cross Validation\n",
    "kf = KFold(n_splits=10,random_state=False)\n",
    "score_list=[]\n",
    "for train_index,test_index in kf.split(x_data):\n",
    "    #print(\"Train:\", train_index, \"Validation:\",test_index)\n",
    "    X_train, X_test, y_train, y_test = x_data.iloc[train_index],x_data.iloc[test_index],y_data.iloc[train_index],y_data.iloc[test_index]\n",
    "    clf,score = RFC(X_train,X_test, y_train ,y_test)\n",
    "    score_list.append(score)\n",
    "    print(\"Accuracy:\" ,score)\n",
    "print(\"avg score:\", np.mean(score_list))"
   ]
  }
 ],
 "metadata": {
  "kernelspec": {
   "display_name": "Python 3",
   "language": "python",
   "name": "python3"
  },
  "language_info": {
   "codemirror_mode": {
    "name": "ipython",
    "version": 3
   },
   "file_extension": ".py",
   "mimetype": "text/x-python",
   "name": "python",
   "nbconvert_exporter": "python",
   "pygments_lexer": "ipython3",
   "version": "3.6.5"
  }
 },
 "nbformat": 4,
 "nbformat_minor": 2
}
