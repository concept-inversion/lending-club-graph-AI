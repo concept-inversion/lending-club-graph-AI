{
 "cells": [
  {
   "cell_type": "markdown",
   "metadata": {},
   "source": [
    "## Nodes\n",
    "work_details = ['emp_length','emp_title']\n",
    "\n",
    "applicationID = ['id','open_acc','pub_rec','issue_d']\n",
    "\n",
    "address = ['zip_code','addr_state','home_ownership']\n",
    "\n",
    "Loan = ['total_bal_il','funded_amount']\n",
    "\n",
    "Status=['loan_status']\n",
    "\n",
    "Purpose=['purpose']\n",
    "\n",
    "Term=['term']\n",
    "\n",
    "ApplicationType=['application_type']"
   ]
  },
  {
   "cell_type": "code",
   "execution_count": 201,
   "metadata": {},
   "outputs": [],
   "source": [
    "import pandas as pd\n",
    "import sys\n",
    "import numpy as np\n",
    "import os"
   ]
  },
  {
   "cell_type": "code",
   "execution_count": 202,
   "metadata": {},
   "outputs": [],
   "source": [
    "data = pd.read_csv(\"data/graph_sample_data.txt\",index_col=0)"
   ]
  },
  {
   "cell_type": "code",
   "execution_count": 203,
   "metadata": {},
   "outputs": [
    {
     "name": "stdout",
     "output_type": "stream",
     "text": [
      "<class 'pandas.core.frame.DataFrame'>\n",
      "Int64Index: 699 entries, 0 to 700\n",
      "Data columns (total 20 columns):\n",
      "addr_state          699 non-null object\n",
      "annual_inc          699 non-null float64\n",
      "application_type    699 non-null object\n",
      "dti                 699 non-null float64\n",
      "dti_joint           0 non-null float64\n",
      "emp_length          676 non-null object\n",
      "emp_title           677 non-null object\n",
      "funded_amnt         699 non-null float64\n",
      "home_ownership      699 non-null object\n",
      "issue_d             699 non-null object\n",
      "loan_status         699 non-null object\n",
      "member_id           0 non-null float64\n",
      "open_acc            699 non-null float64\n",
      "pub_rec             699 non-null float64\n",
      "purpose             699 non-null object\n",
      "term                699 non-null object\n",
      "zip_code            699 non-null object\n",
      "open_il_12m         0 non-null float64\n",
      "total_bal_il        0 non-null float64\n",
      "id                  699 non-null int64\n",
      "dtypes: float64(9), int64(1), object(10)\n",
      "memory usage: 114.7+ KB\n"
     ]
    },
    {
     "data": {
      "text/plain": [
       "['addr_state',\n",
       " 'annual_inc',\n",
       " 'application_type',\n",
       " 'dti',\n",
       " 'dti_joint',\n",
       " 'emp_length',\n",
       " 'emp_title',\n",
       " 'funded_amnt',\n",
       " 'home_ownership',\n",
       " 'issue_d',\n",
       " 'loan_status',\n",
       " 'member_id',\n",
       " 'open_acc',\n",
       " 'pub_rec',\n",
       " 'purpose',\n",
       " 'term',\n",
       " 'zip_code',\n",
       " 'open_il_12m',\n",
       " 'total_bal_il',\n",
       " 'id']"
      ]
     },
     "execution_count": 203,
     "metadata": {},
     "output_type": "execute_result"
    }
   ],
   "source": [
    "data.info()\n",
    "list(data.columns)"
   ]
  },
  {
   "cell_type": "code",
   "execution_count": 204,
   "metadata": {},
   "outputs": [],
   "source": [
    "# Create the folder if it already doesn't exist\n",
    "if not os.path.exists('graph_csv'):\n",
    "    os.makedirs('graph_csv')"
   ]
  },
  {
   "cell_type": "markdown",
   "metadata": {},
   "source": [
    "### Creating CSVs"
   ]
  },
  {
   "cell_type": "code",
   "execution_count": 205,
   "metadata": {},
   "outputs": [],
   "source": [
    "df = pd.DataFrame(data['term'].unique(),columns=['term'])\n",
    "df.index +=1 \n",
    "df.to_csv('graph_csv/terms.csv',index_label=\"termId:ID(Terms)\",float_format=\"%.10g\")"
   ]
  },
  {
   "cell_type": "code",
   "execution_count": 206,
   "metadata": {},
   "outputs": [],
   "source": [
    "### Workdetail\n",
    "df_workdetail = data[['emp_length','emp_title']].drop_duplicates()\n",
    "df_workdetail.index +=1 \n",
    "df_workdetail.head(2)\n",
    "df_workdetail.to_csv('graph_csv/workdetails.csv',index_label=\"workId:ID(Work)\",float_format=\"%.10g\")"
   ]
  },
  {
   "cell_type": "code",
   "execution_count": 207,
   "metadata": {},
   "outputs": [],
   "source": [
    "### applicationID\n",
    "df_applicationID = data[['id','open_acc','pub_rec','issue_d']].drop_duplicates()\n",
    "df_applicationID=df_applicationID.set_index('id')\n",
    "df_applicationID.head(2)\n",
    "df_applicationID.to_csv('graph_csv/application.csv',index_label=\"applicationId:ID(Application)\",float_format=\"%.10g\")"
   ]
  },
  {
   "cell_type": "code",
   "execution_count": 208,
   "metadata": {},
   "outputs": [],
   "source": [
    "### Status\n",
    "df_status = data[['loan_status']].drop_duplicates()\n",
    "df_status.index +=1\n",
    "df_status.to_csv('graph_csv/loanstatus.csv',index_label=\"LoanstsId:ID(Loansts)\",float_format=\"%.10g\")"
   ]
  },
  {
   "cell_type": "code",
   "execution_count": 209,
   "metadata": {},
   "outputs": [],
   "source": [
    "### Purpose\n",
    "df_purpose = data[['purpose']].drop_duplicates()\n",
    "df_purpose.index+=1\n",
    "df_purpose.to_csv('graph_csv/purpose.csv',index_label=\"purposeId:ID(Purpose)\",float_format=\"%.10g\")"
   ]
  },
  {
   "cell_type": "code",
   "execution_count": 210,
   "metadata": {},
   "outputs": [],
   "source": [
    "### Application Type\n",
    "df_application_type = data[['application_type']].drop_duplicates()\n",
    "df_application_type.index +=1\n",
    "df_application_type.to_csv('graph_csv/apptype.csv',index_label=\"ApptypeId:ID(Apptype)\",float_format=\"%.10g\")"
   ]
  },
  {
   "cell_type": "code",
   "execution_count": 211,
   "metadata": {},
   "outputs": [],
   "source": [
    "### Address\n",
    "df_Address = data[['zip_code','addr_state','home_ownership']].drop_duplicates()\n",
    "df_Address.index+=1\n",
    "df_Address.to_csv('graph_csv/address.csv',index_label=\"addressId:ID(Address)\",float_format=\"%.10g\")"
   ]
  },
  {
   "cell_type": "code",
   "execution_count": 212,
   "metadata": {},
   "outputs": [],
   "source": [
    "### Loan\n",
    "df_loan = data[['total_bal_il','funded_amnt']].drop_duplicates()\n",
    "df_loan.index+=1\n",
    "df_loan.to_csv('graph_csv/loan.csv',index_label=\"loanId:ID(Loan)\",float_format=\"%.10g\")"
   ]
  },
  {
   "cell_type": "markdown",
   "metadata": {},
   "source": [
    "### Relationships\n",
    "\n",
    "1. application_purpose : applicationID -----> purpose\n",
    "2. application_type    : applicationID -----> Applicationtype\n",
    "3. takes_loan          : applicationID -----> WorksDetails\n",
    "4. works               : applicationID -----> Address\n",
    "5. lives               : applicationID -----> Loan\n",
    "6. loan_status         : Loan -----> Status\n",
    "7. loan_term           : Loan -----> Term"
   ]
  },
  {
   "cell_type": "code",
   "execution_count": 213,
   "metadata": {},
   "outputs": [
    {
     "name": "stdout",
     "output_type": "stream",
     "text": [
      "<class 'pandas.core.frame.DataFrame'>\n",
      "Int64Index: 699 entries, 0 to 700\n",
      "Data columns (total 2 columns):\n",
      "id         699 non-null int64\n",
      "purpose    699 non-null int64\n",
      "dtypes: int64(2)\n",
      "memory usage: 16.4 KB\n"
     ]
    },
    {
     "name": "stderr",
     "output_type": "stream",
     "text": [
      "C:\\ProgramData\\Anaconda3\\lib\\site-packages\\ipykernel_launcher.py:9: SettingWithCopyWarning: \n",
      "A value is trying to be set on a copy of a slice from a DataFrame.\n",
      "Try using .loc[row_indexer,col_indexer] = value instead\n",
      "\n",
      "See the caveats in the documentation: http://pandas.pydata.org/pandas-docs/stable/indexing.html#indexing-view-versus-copy\n",
      "  if __name__ == '__main__':\n"
     ]
    }
   ],
   "source": [
    "# 1 \n",
    "dtest = pd.read_csv('graph_csv/purpose.csv')\n",
    "dnow = data[['id','purpose']]\n",
    "columns = list(dtest)\n",
    "dictmap = {}\n",
    "for index,row in dtest.iterrows():\n",
    "    dictmap[row[columns[1]]] = row[columns[0]]\n",
    "dictmap\n",
    "dnow[columns[1]] = dnow[columns[1]].map(dictmap)\n",
    "dnow.info()\n",
    "dnow.to_csv('graph_csv/appid_to_purpose.csv',\n",
    "            index=False,\n",
    "            header=[\":START_ID(Application)\",\":END_ID(Purpose)\"]\n",
    "           )"
   ]
  },
  {
   "cell_type": "code",
   "execution_count": 214,
   "metadata": {},
   "outputs": [
    {
     "name": "stdout",
     "output_type": "stream",
     "text": [
      "<class 'pandas.core.frame.DataFrame'>\n",
      "Int64Index: 699 entries, 0 to 700\n",
      "Data columns (total 2 columns):\n",
      "id                  699 non-null int64\n",
      "application_type    699 non-null int64\n",
      "dtypes: int64(2)\n",
      "memory usage: 16.4 KB\n"
     ]
    },
    {
     "name": "stderr",
     "output_type": "stream",
     "text": [
      "C:\\ProgramData\\Anaconda3\\lib\\site-packages\\ipykernel_launcher.py:9: SettingWithCopyWarning: \n",
      "A value is trying to be set on a copy of a slice from a DataFrame.\n",
      "Try using .loc[row_indexer,col_indexer] = value instead\n",
      "\n",
      "See the caveats in the documentation: http://pandas.pydata.org/pandas-docs/stable/indexing.html#indexing-view-versus-copy\n",
      "  if __name__ == '__main__':\n"
     ]
    }
   ],
   "source": [
    "# 2 \n",
    "dtest = pd.read_csv('graph_csv/apptype.csv')\n",
    "dnow = data[['id','application_type']]\n",
    "columns = list(dtest)\n",
    "dictmap = {}\n",
    "for index,row in dtest.iterrows():\n",
    "    dictmap[row[columns[1]]] = row[columns[0]]\n",
    "dictmap\n",
    "dnow[columns[1]] = dnow[columns[1]].map(dictmap)\n",
    "dnow.info()\n",
    "dnow.to_csv('graph_csv/appid_to_apptype.csv',\n",
    "            index=False,\n",
    "            header=[\":START_ID(Application)\",\":END_ID(Apptype)\"]\n",
    "           )"
   ]
  },
  {
   "cell_type": "code",
   "execution_count": 215,
   "metadata": {},
   "outputs": [],
   "source": [
    "#3\n",
    "dtest = pd.read_csv('graph_csv/workdetails.csv')\n",
    "dnow = data[['id','emp_length','emp_title']]\n",
    "dictmap={}\n",
    "columns = list(dtest)\n",
    "for index,row in dtest.iterrows():\n",
    "    dictmap[row[columns[1]],row[columns[2]]] = row[columns[0]]\n",
    "dictmap\n",
    "x=pd.Series(list(zip(dnow.emp_length, dnow.emp_title))).map(dictmap)\n",
    "y = pd.Series(dnow.id).reset_index(drop=True)\n",
    "z= pd.concat([y,x],axis=1,ignore_index=True)\n",
    "z.to_csv('graph_csv/appid_to_workdetails.csv',\n",
    "            index=False,\n",
    "            header=[\":START_ID(Application)\",\":END_ID(Work)\"]\n",
    "           )"
   ]
  },
  {
   "cell_type": "code",
   "execution_count": 216,
   "metadata": {},
   "outputs": [],
   "source": [
    "#4\n",
    "dtest = pd.read_csv('graph_csv/address.csv')\n",
    "dnow = data[['id','zip_code','addr_state','home_ownership']]\n",
    "dictmap={}\n",
    "columns = list(dtest)\n",
    "for index,row in dtest.iterrows():\n",
    "    dictmap[row[columns[1]],row[columns[2]],row[columns[3]]] = row[columns[0]]\n",
    "dictmap\n",
    "x=pd.Series(list(zip(dnow.zip_code, dnow.addr_state,dnow.home_ownership))).map(dictmap)\n",
    "y = pd.Series(dnow.id).reset_index(drop=True)\n",
    "z= pd.concat([y,x],axis=1,ignore_index=True)\n",
    "z.to_csv('graph_csv/appid_to_address.csv',\n",
    "            index=False,\n",
    "            header=[\":START_ID(Application)\",\":END_ID(Address)\"]\n",
    "           )"
   ]
  },
  {
   "cell_type": "code",
   "execution_count": 217,
   "metadata": {},
   "outputs": [],
   "source": [
    "#5\n",
    "dtest = pd.read_csv('graph_csv/loan.csv')\n",
    "dnow = data[['id','total_bal_il','funded_amnt']]\n",
    "dictmap={}\n",
    "columns = list(dtest)\n",
    "for index,row in dtest.iterrows():\n",
    "    dictmap[row[columns[1]],row[columns[2]]] = row[columns[0]]\n",
    "dictmap\n",
    "x=pd.Series(list(zip(dnow.total_bal_il, dnow.funded_amnt))).map(dictmap)\n",
    "y = pd.Series(dnow.id).reset_index(drop=True)\n",
    "z= pd.concat([y,x],axis=1,ignore_index=True)\n",
    "z.head()\n",
    "z.to_csv('graph_csv/appid_to_loan.csv',\n",
    "             index=False,\n",
    "            header=[\":START_ID(Application)\",\":END_ID(Loan)\"],\n",
    "            float_format=\"%.10g\"\n",
    "           )"
   ]
  },
  {
   "cell_type": "code",
   "execution_count": 218,
   "metadata": {},
   "outputs": [
    {
     "name": "stdout",
     "output_type": "stream",
     "text": [
      "<class 'pandas.core.frame.DataFrame'>\n",
      "Int64Index: 699 entries, 0 to 700\n",
      "Data columns (total 2 columns):\n",
      "id             699 non-null int64\n",
      "loan_status    699 non-null int64\n",
      "dtypes: int64(2)\n",
      "memory usage: 16.4 KB\n"
     ]
    },
    {
     "name": "stderr",
     "output_type": "stream",
     "text": [
      "C:\\ProgramData\\Anaconda3\\lib\\site-packages\\ipykernel_launcher.py:9: SettingWithCopyWarning: \n",
      "A value is trying to be set on a copy of a slice from a DataFrame.\n",
      "Try using .loc[row_indexer,col_indexer] = value instead\n",
      "\n",
      "See the caveats in the documentation: http://pandas.pydata.org/pandas-docs/stable/indexing.html#indexing-view-versus-copy\n",
      "  if __name__ == '__main__':\n"
     ]
    }
   ],
   "source": [
    "# 6\n",
    "dtest = pd.read_csv('graph_csv/loanstatus.csv')\n",
    "dnow = data[['id','loan_status']]\n",
    "columns = list(dtest)\n",
    "dictmap = {}\n",
    "for index,row in dtest.iterrows():\n",
    "    dictmap[row[columns[1]]] = row[columns[0]]\n",
    "dictmap\n",
    "dnow[columns[1]] = dnow[columns[1]].map(dictmap)\n",
    "dnow.info()\n",
    "dnow.to_csv('graph_csv/appid_to_loanstatus.csv',\n",
    "            index=False,\n",
    "            header=[\":START_ID(Application)\",\":END_ID(Loansts)\"]\n",
    "           )"
   ]
  },
  {
   "cell_type": "code",
   "execution_count": 219,
   "metadata": {},
   "outputs": [
    {
     "name": "stderr",
     "output_type": "stream",
     "text": [
      "C:\\ProgramData\\Anaconda3\\lib\\site-packages\\ipykernel_launcher.py:9: SettingWithCopyWarning: \n",
      "A value is trying to be set on a copy of a slice from a DataFrame.\n",
      "Try using .loc[row_indexer,col_indexer] = value instead\n",
      "\n",
      "See the caveats in the documentation: http://pandas.pydata.org/pandas-docs/stable/indexing.html#indexing-view-versus-copy\n",
      "  if __name__ == '__main__':\n"
     ]
    }
   ],
   "source": [
    "# 7\n",
    "dtest = pd.read_csv('graph_csv/terms.csv')\n",
    "dnow = data[['id','term']]\n",
    "columns = list(dtest)\n",
    "dictmap = {}\n",
    "for index,row in dtest.iterrows():\n",
    "    dictmap[row[columns[1]]] = row[columns[0]]\n",
    "dictmap\n",
    "dnow[columns[1]] = dnow[columns[1]].map(dictmap)\n",
    "dnow.to_csv('graph_csv/appid_to_terms.csv',\n",
    "            index=False,\n",
    "            header=[\":START_ID(Application)\",\":END_ID(Terms)\"]\n",
    "           )"
   ]
  },
  {
   "cell_type": "code",
   "execution_count": null,
   "metadata": {},
   "outputs": [],
   "source": []
  },
  {
   "cell_type": "code",
   "execution_count": null,
   "metadata": {},
   "outputs": [],
   "source": []
  }
 ],
 "metadata": {
  "kernelspec": {
   "display_name": "Python 3",
   "language": "python",
   "name": "python3"
  },
  "language_info": {
   "codemirror_mode": {
    "name": "ipython",
    "version": 3
   },
   "file_extension": ".py",
   "mimetype": "text/x-python",
   "name": "python",
   "nbconvert_exporter": "python",
   "pygments_lexer": "ipython3",
   "version": "3.6.5"
  }
 },
 "nbformat": 4,
 "nbformat_minor": 2
}
